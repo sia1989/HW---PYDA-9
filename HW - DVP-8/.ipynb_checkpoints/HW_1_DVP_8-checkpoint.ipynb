{
 "cells": [
  {
   "cell_type": "markdown",
   "metadata": {},
   "source": [
    "Необходимо запустить практическую часть занятия, и посмотреть самому то, о чём говорили на лекции.\n",
    "\n",
    "По образу практики, попробуйте создать искусственный датасет с лишними столбцами.\n",
    "\n",
    "Целевую метку, при правильной обработке данных, формируйте таким образом, чтобы без затруднений её смогла описать линейная модель.\n",
    "\n",
    "Ориентируйтесь на то, что было показано во время занятия, и каждый шаг описывайте в markdown. Здесь важно видеть ваш ход мысли.\n",
    "\n",
    "Не бойтесь ошибиться или написать не то. Данное задание не имеет какого-то “правильного” решения. Цель - достичь базового понимания проблемы.\n",
    "\n",
    "Чем больше вы фантазируете, тем лучше :) Тем не менее, старайтесь представить те ситуации, которые по-вашему мнению могли бы быть в реальных данных. Успеха!"
   ]
  },
  {
   "cell_type": "code",
   "execution_count": null,
   "metadata": {},
   "outputs": [],
   "source": []
  },
  {
   "cell_type": "markdown",
   "metadata": {},
   "source": [
    "Создаю датасет на основе лекционного, так будет понятнее, а потом уже можно применить на жизненных, в любом случае главное понять скелет )))"
   ]
  },
  {
   "cell_type": "code",
   "execution_count": 2,
   "metadata": {},
   "outputs": [],
   "source": [
    "import numpy as np\n",
    "import pandas as pd\n",
    "\n",
    "from sklearn.linear_model import LinearRegression"
   ]
  },
  {
   "cell_type": "code",
   "execution_count": 71,
   "metadata": {},
   "outputs": [
    {
     "data": {
      "text/html": [
       "<div>\n",
       "<style scoped>\n",
       "    .dataframe tbody tr th:only-of-type {\n",
       "        vertical-align: middle;\n",
       "    }\n",
       "\n",
       "    .dataframe tbody tr th {\n",
       "        vertical-align: top;\n",
       "    }\n",
       "\n",
       "    .dataframe thead th {\n",
       "        text-align: right;\n",
       "    }\n",
       "</style>\n",
       "<table border=\"1\" class=\"dataframe\">\n",
       "  <thead>\n",
       "    <tr style=\"text-align: right;\">\n",
       "      <th></th>\n",
       "      <th>houses</th>\n",
       "      <th>red</th>\n",
       "      <th>blue</th>\n",
       "      <th>white</th>\n",
       "      <th>color_class</th>\n",
       "      <th>price</th>\n",
       "    </tr>\n",
       "  </thead>\n",
       "  <tbody>\n",
       "    <tr>\n",
       "      <th>0</th>\n",
       "      <td>361</td>\n",
       "      <td>10</td>\n",
       "      <td>60</td>\n",
       "      <td>96</td>\n",
       "      <td>5</td>\n",
       "      <td>5760000</td>\n",
       "    </tr>\n",
       "    <tr>\n",
       "      <th>1</th>\n",
       "      <td>655</td>\n",
       "      <td>12</td>\n",
       "      <td>22</td>\n",
       "      <td>49</td>\n",
       "      <td>5</td>\n",
       "      <td>1293600</td>\n",
       "    </tr>\n",
       "    <tr>\n",
       "      <th>2</th>\n",
       "      <td>866</td>\n",
       "      <td>10</td>\n",
       "      <td>43</td>\n",
       "      <td>52</td>\n",
       "      <td>3</td>\n",
       "      <td>2236000</td>\n",
       "    </tr>\n",
       "    <tr>\n",
       "      <th>3</th>\n",
       "      <td>329</td>\n",
       "      <td>16</td>\n",
       "      <td>44</td>\n",
       "      <td>76</td>\n",
       "      <td>5</td>\n",
       "      <td>5350400</td>\n",
       "    </tr>\n",
       "    <tr>\n",
       "      <th>4</th>\n",
       "      <td>164</td>\n",
       "      <td>17</td>\n",
       "      <td>39</td>\n",
       "      <td>67</td>\n",
       "      <td>5</td>\n",
       "      <td>4442100</td>\n",
       "    </tr>\n",
       "    <tr>\n",
       "      <th>...</th>\n",
       "      <td>...</td>\n",
       "      <td>...</td>\n",
       "      <td>...</td>\n",
       "      <td>...</td>\n",
       "      <td>...</td>\n",
       "      <td>...</td>\n",
       "    </tr>\n",
       "    <tr>\n",
       "      <th>495</th>\n",
       "      <td>29</td>\n",
       "      <td>14</td>\n",
       "      <td>62</td>\n",
       "      <td>81</td>\n",
       "      <td>5</td>\n",
       "      <td>7030800</td>\n",
       "    </tr>\n",
       "    <tr>\n",
       "      <th>496</th>\n",
       "      <td>380</td>\n",
       "      <td>14</td>\n",
       "      <td>29</td>\n",
       "      <td>65</td>\n",
       "      <td>3</td>\n",
       "      <td>2639000</td>\n",
       "    </tr>\n",
       "    <tr>\n",
       "      <th>497</th>\n",
       "      <td>226</td>\n",
       "      <td>20</td>\n",
       "      <td>41</td>\n",
       "      <td>75</td>\n",
       "      <td>5</td>\n",
       "      <td>6150000</td>\n",
       "    </tr>\n",
       "    <tr>\n",
       "      <th>498</th>\n",
       "      <td>818</td>\n",
       "      <td>12</td>\n",
       "      <td>52</td>\n",
       "      <td>98</td>\n",
       "      <td>3</td>\n",
       "      <td>6115200</td>\n",
       "    </tr>\n",
       "    <tr>\n",
       "      <th>499</th>\n",
       "      <td>86</td>\n",
       "      <td>5</td>\n",
       "      <td>52</td>\n",
       "      <td>53</td>\n",
       "      <td>3</td>\n",
       "      <td>1378000</td>\n",
       "    </tr>\n",
       "  </tbody>\n",
       "</table>\n",
       "<p>500 rows × 6 columns</p>\n",
       "</div>"
      ],
      "text/plain": [
       "     houses  red  blue  white  color_class    price\n",
       "0       361   10    60     96            5  5760000\n",
       "1       655   12    22     49            5  1293600\n",
       "2       866   10    43     52            3  2236000\n",
       "3       329   16    44     76            5  5350400\n",
       "4       164   17    39     67            5  4442100\n",
       "..      ...  ...   ...    ...          ...      ...\n",
       "495      29   14    62     81            5  7030800\n",
       "496     380   14    29     65            3  2639000\n",
       "497     226   20    41     75            5  6150000\n",
       "498     818   12    52     98            3  6115200\n",
       "499      86    5    52     53            3  1378000\n",
       "\n",
       "[500 rows x 6 columns]"
      ]
     },
     "execution_count": 71,
     "metadata": {},
     "output_type": "execute_result"
    }
   ],
   "source": [
    "n_samples = 500\n",
    "\n",
    "houses = np.random.choice(1000, n_samples, replace=False)\n",
    "red = np.random.choice(15, n_samples) + np.random.choice(10, n_samples) + np.random.choice(5, n_samples)\n",
    "blue = np.random.choice(20, n_samples) + np.random.choice(30, n_samples) + np.random.choice(40, n_samples)\n",
    "white = np.random.choice(45, n_samples) + np.random.choice(35, n_samples) + np.random.choice(50, n_samples)\n",
    "color_class = np.random.choice(3, n_samples) + 3\n",
    "\n",
    "price = red * blue * white * 100\n",
    "\n",
    "data = pd.DataFrame({'houses': houses, 'red': red, 'blue': blue, 'white': white, 'color_class': color_class, 'price': price})\n",
    "data"
   ]
  },
  {
   "cell_type": "code",
   "execution_count": 72,
   "metadata": {},
   "outputs": [
    {
     "data": {
      "text/html": [
       "<div>\n",
       "<style scoped>\n",
       "    .dataframe tbody tr th:only-of-type {\n",
       "        vertical-align: middle;\n",
       "    }\n",
       "\n",
       "    .dataframe tbody tr th {\n",
       "        vertical-align: top;\n",
       "    }\n",
       "\n",
       "    .dataframe thead th {\n",
       "        text-align: right;\n",
       "    }\n",
       "</style>\n",
       "<table border=\"1\" class=\"dataframe\">\n",
       "  <thead>\n",
       "    <tr style=\"text-align: right;\">\n",
       "      <th></th>\n",
       "      <th>houses</th>\n",
       "      <th>red</th>\n",
       "      <th>blue</th>\n",
       "      <th>white</th>\n",
       "      <th>color_class</th>\n",
       "      <th>price</th>\n",
       "    </tr>\n",
       "  </thead>\n",
       "  <tbody>\n",
       "    <tr>\n",
       "      <th>0</th>\n",
       "      <td>361</td>\n",
       "      <td>10</td>\n",
       "      <td>60</td>\n",
       "      <td>96</td>\n",
       "      <td>5</td>\n",
       "      <td>5760000</td>\n",
       "    </tr>\n",
       "    <tr>\n",
       "      <th>1</th>\n",
       "      <td>655</td>\n",
       "      <td>12</td>\n",
       "      <td>22</td>\n",
       "      <td>49</td>\n",
       "      <td>5</td>\n",
       "      <td>1293600</td>\n",
       "    </tr>\n",
       "    <tr>\n",
       "      <th>2</th>\n",
       "      <td>866</td>\n",
       "      <td>10</td>\n",
       "      <td>43</td>\n",
       "      <td>52</td>\n",
       "      <td>3</td>\n",
       "      <td>2236000</td>\n",
       "    </tr>\n",
       "    <tr>\n",
       "      <th>3</th>\n",
       "      <td>329</td>\n",
       "      <td>16</td>\n",
       "      <td>44</td>\n",
       "      <td>76</td>\n",
       "      <td>5</td>\n",
       "      <td>5350400</td>\n",
       "    </tr>\n",
       "    <tr>\n",
       "      <th>4</th>\n",
       "      <td>164</td>\n",
       "      <td>17</td>\n",
       "      <td>39</td>\n",
       "      <td>67</td>\n",
       "      <td>5</td>\n",
       "      <td>4442100</td>\n",
       "    </tr>\n",
       "    <tr>\n",
       "      <th>5</th>\n",
       "      <td>225</td>\n",
       "      <td>12</td>\n",
       "      <td>29</td>\n",
       "      <td>61</td>\n",
       "      <td>3</td>\n",
       "      <td>2122800</td>\n",
       "    </tr>\n",
       "    <tr>\n",
       "      <th>6</th>\n",
       "      <td>811</td>\n",
       "      <td>13</td>\n",
       "      <td>48</td>\n",
       "      <td>97</td>\n",
       "      <td>5</td>\n",
       "      <td>6052800</td>\n",
       "    </tr>\n",
       "    <tr>\n",
       "      <th>7</th>\n",
       "      <td>208</td>\n",
       "      <td>18</td>\n",
       "      <td>22</td>\n",
       "      <td>55</td>\n",
       "      <td>5</td>\n",
       "      <td>2178000</td>\n",
       "    </tr>\n",
       "    <tr>\n",
       "      <th>8</th>\n",
       "      <td>427</td>\n",
       "      <td>6</td>\n",
       "      <td>42</td>\n",
       "      <td>54</td>\n",
       "      <td>4</td>\n",
       "      <td>1360800</td>\n",
       "    </tr>\n",
       "    <tr>\n",
       "      <th>9</th>\n",
       "      <td>449</td>\n",
       "      <td>20</td>\n",
       "      <td>79</td>\n",
       "      <td>69</td>\n",
       "      <td>3</td>\n",
       "      <td>10902000</td>\n",
       "    </tr>\n",
       "    <tr>\n",
       "      <th>10</th>\n",
       "      <td>791</td>\n",
       "      <td>9</td>\n",
       "      <td>34</td>\n",
       "      <td>43</td>\n",
       "      <td>4</td>\n",
       "      <td>1315800</td>\n",
       "    </tr>\n",
       "    <tr>\n",
       "      <th>11</th>\n",
       "      <td>289</td>\n",
       "      <td>24</td>\n",
       "      <td>45</td>\n",
       "      <td>24</td>\n",
       "      <td>5</td>\n",
       "      <td>2592000</td>\n",
       "    </tr>\n",
       "    <tr>\n",
       "      <th>12</th>\n",
       "      <td>542</td>\n",
       "      <td>15</td>\n",
       "      <td>50</td>\n",
       "      <td>99</td>\n",
       "      <td>3</td>\n",
       "      <td>7425000</td>\n",
       "    </tr>\n",
       "    <tr>\n",
       "      <th>13</th>\n",
       "      <td>928</td>\n",
       "      <td>9</td>\n",
       "      <td>25</td>\n",
       "      <td>76</td>\n",
       "      <td>3</td>\n",
       "      <td>1710000</td>\n",
       "    </tr>\n",
       "    <tr>\n",
       "      <th>14</th>\n",
       "      <td>227</td>\n",
       "      <td>14</td>\n",
       "      <td>45</td>\n",
       "      <td>78</td>\n",
       "      <td>3</td>\n",
       "      <td>4914000</td>\n",
       "    </tr>\n",
       "    <tr>\n",
       "      <th>15</th>\n",
       "      <td>732</td>\n",
       "      <td>5</td>\n",
       "      <td>60</td>\n",
       "      <td>67</td>\n",
       "      <td>5</td>\n",
       "      <td>2010000</td>\n",
       "    </tr>\n",
       "    <tr>\n",
       "      <th>16</th>\n",
       "      <td>869</td>\n",
       "      <td>6</td>\n",
       "      <td>64</td>\n",
       "      <td>72</td>\n",
       "      <td>5</td>\n",
       "      <td>2764800</td>\n",
       "    </tr>\n",
       "    <tr>\n",
       "      <th>17</th>\n",
       "      <td>396</td>\n",
       "      <td>11</td>\n",
       "      <td>55</td>\n",
       "      <td>52</td>\n",
       "      <td>4</td>\n",
       "      <td>3146000</td>\n",
       "    </tr>\n",
       "    <tr>\n",
       "      <th>18</th>\n",
       "      <td>994</td>\n",
       "      <td>23</td>\n",
       "      <td>76</td>\n",
       "      <td>66</td>\n",
       "      <td>4</td>\n",
       "      <td>11536800</td>\n",
       "    </tr>\n",
       "    <tr>\n",
       "      <th>19</th>\n",
       "      <td>472</td>\n",
       "      <td>9</td>\n",
       "      <td>73</td>\n",
       "      <td>47</td>\n",
       "      <td>3</td>\n",
       "      <td>3087900</td>\n",
       "    </tr>\n",
       "  </tbody>\n",
       "</table>\n",
       "</div>"
      ],
      "text/plain": [
       "    houses  red  blue  white  color_class     price\n",
       "0      361   10    60     96            5   5760000\n",
       "1      655   12    22     49            5   1293600\n",
       "2      866   10    43     52            3   2236000\n",
       "3      329   16    44     76            5   5350400\n",
       "4      164   17    39     67            5   4442100\n",
       "5      225   12    29     61            3   2122800\n",
       "6      811   13    48     97            5   6052800\n",
       "7      208   18    22     55            5   2178000\n",
       "8      427    6    42     54            4   1360800\n",
       "9      449   20    79     69            3  10902000\n",
       "10     791    9    34     43            4   1315800\n",
       "11     289   24    45     24            5   2592000\n",
       "12     542   15    50     99            3   7425000\n",
       "13     928    9    25     76            3   1710000\n",
       "14     227   14    45     78            3   4914000\n",
       "15     732    5    60     67            5   2010000\n",
       "16     869    6    64     72            5   2764800\n",
       "17     396   11    55     52            4   3146000\n",
       "18     994   23    76     66            4  11536800\n",
       "19     472    9    73     47            3   3087900"
      ]
     },
     "execution_count": 72,
     "metadata": {},
     "output_type": "execute_result"
    }
   ],
   "source": [
    "data.head(20)"
   ]
  },
  {
   "cell_type": "code",
   "execution_count": 73,
   "metadata": {},
   "outputs": [
    {
     "data": {
      "text/html": [
       "<div>\n",
       "<style scoped>\n",
       "    .dataframe tbody tr th:only-of-type {\n",
       "        vertical-align: middle;\n",
       "    }\n",
       "\n",
       "    .dataframe tbody tr th {\n",
       "        vertical-align: top;\n",
       "    }\n",
       "\n",
       "    .dataframe thead th {\n",
       "        text-align: right;\n",
       "    }\n",
       "</style>\n",
       "<table border=\"1\" class=\"dataframe\">\n",
       "  <thead>\n",
       "    <tr style=\"text-align: right;\">\n",
       "      <th></th>\n",
       "      <th>houses</th>\n",
       "      <th>red</th>\n",
       "      <th>blue</th>\n",
       "      <th>white</th>\n",
       "      <th>color_class</th>\n",
       "      <th>price</th>\n",
       "    </tr>\n",
       "  </thead>\n",
       "  <tbody>\n",
       "    <tr>\n",
       "      <th>480</th>\n",
       "      <td>810</td>\n",
       "      <td>17</td>\n",
       "      <td>25</td>\n",
       "      <td>27</td>\n",
       "      <td>3</td>\n",
       "      <td>1147500</td>\n",
       "    </tr>\n",
       "    <tr>\n",
       "      <th>481</th>\n",
       "      <td>738</td>\n",
       "      <td>10</td>\n",
       "      <td>55</td>\n",
       "      <td>72</td>\n",
       "      <td>4</td>\n",
       "      <td>3960000</td>\n",
       "    </tr>\n",
       "    <tr>\n",
       "      <th>482</th>\n",
       "      <td>179</td>\n",
       "      <td>14</td>\n",
       "      <td>35</td>\n",
       "      <td>61</td>\n",
       "      <td>3</td>\n",
       "      <td>2989000</td>\n",
       "    </tr>\n",
       "    <tr>\n",
       "      <th>483</th>\n",
       "      <td>149</td>\n",
       "      <td>11</td>\n",
       "      <td>4</td>\n",
       "      <td>32</td>\n",
       "      <td>3</td>\n",
       "      <td>140800</td>\n",
       "    </tr>\n",
       "    <tr>\n",
       "      <th>484</th>\n",
       "      <td>230</td>\n",
       "      <td>12</td>\n",
       "      <td>48</td>\n",
       "      <td>26</td>\n",
       "      <td>4</td>\n",
       "      <td>1497600</td>\n",
       "    </tr>\n",
       "    <tr>\n",
       "      <th>485</th>\n",
       "      <td>150</td>\n",
       "      <td>13</td>\n",
       "      <td>59</td>\n",
       "      <td>75</td>\n",
       "      <td>4</td>\n",
       "      <td>5752500</td>\n",
       "    </tr>\n",
       "    <tr>\n",
       "      <th>486</th>\n",
       "      <td>259</td>\n",
       "      <td>13</td>\n",
       "      <td>54</td>\n",
       "      <td>50</td>\n",
       "      <td>3</td>\n",
       "      <td>3510000</td>\n",
       "    </tr>\n",
       "    <tr>\n",
       "      <th>487</th>\n",
       "      <td>9</td>\n",
       "      <td>7</td>\n",
       "      <td>35</td>\n",
       "      <td>59</td>\n",
       "      <td>5</td>\n",
       "      <td>1445500</td>\n",
       "    </tr>\n",
       "    <tr>\n",
       "      <th>488</th>\n",
       "      <td>805</td>\n",
       "      <td>9</td>\n",
       "      <td>79</td>\n",
       "      <td>38</td>\n",
       "      <td>4</td>\n",
       "      <td>2701800</td>\n",
       "    </tr>\n",
       "    <tr>\n",
       "      <th>489</th>\n",
       "      <td>456</td>\n",
       "      <td>12</td>\n",
       "      <td>38</td>\n",
       "      <td>60</td>\n",
       "      <td>4</td>\n",
       "      <td>2736000</td>\n",
       "    </tr>\n",
       "    <tr>\n",
       "      <th>490</th>\n",
       "      <td>206</td>\n",
       "      <td>13</td>\n",
       "      <td>59</td>\n",
       "      <td>44</td>\n",
       "      <td>3</td>\n",
       "      <td>3374800</td>\n",
       "    </tr>\n",
       "    <tr>\n",
       "      <th>491</th>\n",
       "      <td>367</td>\n",
       "      <td>17</td>\n",
       "      <td>42</td>\n",
       "      <td>63</td>\n",
       "      <td>5</td>\n",
       "      <td>4498200</td>\n",
       "    </tr>\n",
       "    <tr>\n",
       "      <th>492</th>\n",
       "      <td>321</td>\n",
       "      <td>18</td>\n",
       "      <td>56</td>\n",
       "      <td>74</td>\n",
       "      <td>4</td>\n",
       "      <td>7459200</td>\n",
       "    </tr>\n",
       "    <tr>\n",
       "      <th>493</th>\n",
       "      <td>723</td>\n",
       "      <td>15</td>\n",
       "      <td>37</td>\n",
       "      <td>58</td>\n",
       "      <td>5</td>\n",
       "      <td>3219000</td>\n",
       "    </tr>\n",
       "    <tr>\n",
       "      <th>494</th>\n",
       "      <td>860</td>\n",
       "      <td>12</td>\n",
       "      <td>51</td>\n",
       "      <td>64</td>\n",
       "      <td>4</td>\n",
       "      <td>3916800</td>\n",
       "    </tr>\n",
       "    <tr>\n",
       "      <th>495</th>\n",
       "      <td>29</td>\n",
       "      <td>14</td>\n",
       "      <td>62</td>\n",
       "      <td>81</td>\n",
       "      <td>5</td>\n",
       "      <td>7030800</td>\n",
       "    </tr>\n",
       "    <tr>\n",
       "      <th>496</th>\n",
       "      <td>380</td>\n",
       "      <td>14</td>\n",
       "      <td>29</td>\n",
       "      <td>65</td>\n",
       "      <td>3</td>\n",
       "      <td>2639000</td>\n",
       "    </tr>\n",
       "    <tr>\n",
       "      <th>497</th>\n",
       "      <td>226</td>\n",
       "      <td>20</td>\n",
       "      <td>41</td>\n",
       "      <td>75</td>\n",
       "      <td>5</td>\n",
       "      <td>6150000</td>\n",
       "    </tr>\n",
       "    <tr>\n",
       "      <th>498</th>\n",
       "      <td>818</td>\n",
       "      <td>12</td>\n",
       "      <td>52</td>\n",
       "      <td>98</td>\n",
       "      <td>3</td>\n",
       "      <td>6115200</td>\n",
       "    </tr>\n",
       "    <tr>\n",
       "      <th>499</th>\n",
       "      <td>86</td>\n",
       "      <td>5</td>\n",
       "      <td>52</td>\n",
       "      <td>53</td>\n",
       "      <td>3</td>\n",
       "      <td>1378000</td>\n",
       "    </tr>\n",
       "  </tbody>\n",
       "</table>\n",
       "</div>"
      ],
      "text/plain": [
       "     houses  red  blue  white  color_class    price\n",
       "480     810   17    25     27            3  1147500\n",
       "481     738   10    55     72            4  3960000\n",
       "482     179   14    35     61            3  2989000\n",
       "483     149   11     4     32            3   140800\n",
       "484     230   12    48     26            4  1497600\n",
       "485     150   13    59     75            4  5752500\n",
       "486     259   13    54     50            3  3510000\n",
       "487       9    7    35     59            5  1445500\n",
       "488     805    9    79     38            4  2701800\n",
       "489     456   12    38     60            4  2736000\n",
       "490     206   13    59     44            3  3374800\n",
       "491     367   17    42     63            5  4498200\n",
       "492     321   18    56     74            4  7459200\n",
       "493     723   15    37     58            5  3219000\n",
       "494     860   12    51     64            4  3916800\n",
       "495      29   14    62     81            5  7030800\n",
       "496     380   14    29     65            3  2639000\n",
       "497     226   20    41     75            5  6150000\n",
       "498     818   12    52     98            3  6115200\n",
       "499      86    5    52     53            3  1378000"
      ]
     },
     "execution_count": 73,
     "metadata": {},
     "output_type": "execute_result"
    }
   ],
   "source": [
    "data.tail(20)"
   ]
  },
  {
   "cell_type": "code",
   "execution_count": 74,
   "metadata": {},
   "outputs": [],
   "source": [
    "?np.random.choice"
   ]
  },
  {
   "cell_type": "code",
   "execution_count": 75,
   "metadata": {},
   "outputs": [
    {
     "name": "stdout",
     "output_type": "stream",
     "text": [
      "sum: [-3.87786515e+01  2.80255207e+05  8.68946960e+04  5.97095197e+04\n",
      "  3.59509154e+04]\n",
      "Bias: -7715099.104446931\n",
      "Error: 578228.797233695\n"
     ]
    }
   ],
   "source": [
    "from sklearn.metrics import mean_absolute_error\n",
    "\n",
    "X = data[['houses', 'red', 'blue', 'white', 'color_class']]\n",
    "y = data['price']\n",
    "reg = LinearRegression().fit(X, y)\n",
    "print('sum: {}'.format(reg.coef_))\n",
    "print('Bias: {}'.format(reg.intercept_))\n",
    "\n",
    "pred_values = reg.predict(data[['houses', 'red', 'blue', 'white', 'color_class']])\n",
    "print('Error: {}'.format(mean_absolute_error(pred_values, y)))"
   ]
  },
  {
   "cell_type": "markdown",
   "metadata": {},
   "source": [
    "удаляем houses//// заметил, что X -большая, а y - маленька )) надеюсь, что разницы нет особой ))"
   ]
  },
  {
   "cell_type": "code",
   "execution_count": 78,
   "metadata": {},
   "outputs": [
    {
     "name": "stdout",
     "output_type": "stream",
     "text": [
      "sum: [280156.11351405  86885.5727045   59680.5835588   36524.69778197]\n",
      "Bias: -7733200.842609849\n",
      "Error: 578245.2392703478\n"
     ]
    }
   ],
   "source": [
    "X = data[['red', 'blue', 'white', 'color_class']]\n",
    "y = data['price']\n",
    "reg = LinearRegression().fit(X, y)\n",
    "print('sum: {}'.format(reg.coef_))\n",
    "print('Bias: {}'.format(reg.intercept_))\n",
    "\n",
    "pred_values = reg.predict(data[['red', 'blue', 'white', 'color_class']])\n",
    "print('Error: {}'.format(mean_absolute_error(pred_values, y)))"
   ]
  },
  {
   "cell_type": "markdown",
   "metadata": {},
   "source": [
    "ну как-то так ))) "
   ]
  },
  {
   "cell_type": "code",
   "execution_count": 90,
   "metadata": {},
   "outputs": [
    {
     "data": {
      "text/html": [
       "<div>\n",
       "<style scoped>\n",
       "    .dataframe tbody tr th:only-of-type {\n",
       "        vertical-align: middle;\n",
       "    }\n",
       "\n",
       "    .dataframe tbody tr th {\n",
       "        vertical-align: top;\n",
       "    }\n",
       "\n",
       "    .dataframe thead th {\n",
       "        text-align: right;\n",
       "    }\n",
       "</style>\n",
       "<table border=\"1\" class=\"dataframe\">\n",
       "  <thead>\n",
       "    <tr style=\"text-align: right;\">\n",
       "      <th></th>\n",
       "      <th>houses</th>\n",
       "      <th>red</th>\n",
       "      <th>blue</th>\n",
       "      <th>white</th>\n",
       "      <th>color_class</th>\n",
       "      <th>price</th>\n",
       "      <th>volume</th>\n",
       "      <th>volome</th>\n",
       "      <th>vol</th>\n",
       "    </tr>\n",
       "  </thead>\n",
       "  <tbody>\n",
       "    <tr>\n",
       "      <th>0</th>\n",
       "      <td>361</td>\n",
       "      <td>10</td>\n",
       "      <td>60</td>\n",
       "      <td>96</td>\n",
       "      <td>5</td>\n",
       "      <td>5760000</td>\n",
       "      <td>57600</td>\n",
       "      <td>57600</td>\n",
       "      <td>57600</td>\n",
       "    </tr>\n",
       "    <tr>\n",
       "      <th>1</th>\n",
       "      <td>655</td>\n",
       "      <td>12</td>\n",
       "      <td>22</td>\n",
       "      <td>49</td>\n",
       "      <td>5</td>\n",
       "      <td>1293600</td>\n",
       "      <td>12936</td>\n",
       "      <td>12936</td>\n",
       "      <td>12936</td>\n",
       "    </tr>\n",
       "    <tr>\n",
       "      <th>2</th>\n",
       "      <td>866</td>\n",
       "      <td>10</td>\n",
       "      <td>43</td>\n",
       "      <td>52</td>\n",
       "      <td>3</td>\n",
       "      <td>2236000</td>\n",
       "      <td>22360</td>\n",
       "      <td>22360</td>\n",
       "      <td>22360</td>\n",
       "    </tr>\n",
       "    <tr>\n",
       "      <th>3</th>\n",
       "      <td>329</td>\n",
       "      <td>16</td>\n",
       "      <td>44</td>\n",
       "      <td>76</td>\n",
       "      <td>5</td>\n",
       "      <td>5350400</td>\n",
       "      <td>53504</td>\n",
       "      <td>53504</td>\n",
       "      <td>53504</td>\n",
       "    </tr>\n",
       "    <tr>\n",
       "      <th>4</th>\n",
       "      <td>164</td>\n",
       "      <td>17</td>\n",
       "      <td>39</td>\n",
       "      <td>67</td>\n",
       "      <td>5</td>\n",
       "      <td>4442100</td>\n",
       "      <td>44421</td>\n",
       "      <td>44421</td>\n",
       "      <td>44421</td>\n",
       "    </tr>\n",
       "    <tr>\n",
       "      <th>...</th>\n",
       "      <td>...</td>\n",
       "      <td>...</td>\n",
       "      <td>...</td>\n",
       "      <td>...</td>\n",
       "      <td>...</td>\n",
       "      <td>...</td>\n",
       "      <td>...</td>\n",
       "      <td>...</td>\n",
       "      <td>...</td>\n",
       "    </tr>\n",
       "    <tr>\n",
       "      <th>495</th>\n",
       "      <td>29</td>\n",
       "      <td>14</td>\n",
       "      <td>62</td>\n",
       "      <td>81</td>\n",
       "      <td>5</td>\n",
       "      <td>7030800</td>\n",
       "      <td>70308</td>\n",
       "      <td>70308</td>\n",
       "      <td>70308</td>\n",
       "    </tr>\n",
       "    <tr>\n",
       "      <th>496</th>\n",
       "      <td>380</td>\n",
       "      <td>14</td>\n",
       "      <td>29</td>\n",
       "      <td>65</td>\n",
       "      <td>3</td>\n",
       "      <td>2639000</td>\n",
       "      <td>26390</td>\n",
       "      <td>26390</td>\n",
       "      <td>26390</td>\n",
       "    </tr>\n",
       "    <tr>\n",
       "      <th>497</th>\n",
       "      <td>226</td>\n",
       "      <td>20</td>\n",
       "      <td>41</td>\n",
       "      <td>75</td>\n",
       "      <td>5</td>\n",
       "      <td>6150000</td>\n",
       "      <td>61500</td>\n",
       "      <td>61500</td>\n",
       "      <td>61500</td>\n",
       "    </tr>\n",
       "    <tr>\n",
       "      <th>498</th>\n",
       "      <td>818</td>\n",
       "      <td>12</td>\n",
       "      <td>52</td>\n",
       "      <td>98</td>\n",
       "      <td>3</td>\n",
       "      <td>6115200</td>\n",
       "      <td>61152</td>\n",
       "      <td>61152</td>\n",
       "      <td>61152</td>\n",
       "    </tr>\n",
       "    <tr>\n",
       "      <th>499</th>\n",
       "      <td>86</td>\n",
       "      <td>5</td>\n",
       "      <td>52</td>\n",
       "      <td>53</td>\n",
       "      <td>3</td>\n",
       "      <td>1378000</td>\n",
       "      <td>13780</td>\n",
       "      <td>13780</td>\n",
       "      <td>13780</td>\n",
       "    </tr>\n",
       "  </tbody>\n",
       "</table>\n",
       "<p>500 rows × 9 columns</p>\n",
       "</div>"
      ],
      "text/plain": [
       "     houses  red  blue  white  color_class    price  volume  volome    vol\n",
       "0       361   10    60     96            5  5760000   57600   57600  57600\n",
       "1       655   12    22     49            5  1293600   12936   12936  12936\n",
       "2       866   10    43     52            3  2236000   22360   22360  22360\n",
       "3       329   16    44     76            5  5350400   53504   53504  53504\n",
       "4       164   17    39     67            5  4442100   44421   44421  44421\n",
       "..      ...  ...   ...    ...          ...      ...     ...     ...    ...\n",
       "495      29   14    62     81            5  7030800   70308   70308  70308\n",
       "496     380   14    29     65            3  2639000   26390   26390  26390\n",
       "497     226   20    41     75            5  6150000   61500   61500  61500\n",
       "498     818   12    52     98            3  6115200   61152   61152  61152\n",
       "499      86    5    52     53            3  1378000   13780   13780  13780\n",
       "\n",
       "[500 rows x 9 columns]"
      ]
     },
     "execution_count": 90,
     "metadata": {},
     "output_type": "execute_result"
    }
   ],
   "source": [
    "# Создаем новое понятие на основе трех цветов\n",
    "data['vol'] = data['red'] * data['blue'] * data['white']\n",
    "data"
   ]
  },
  {
   "cell_type": "markdown",
   "metadata": {},
   "source": [
    "понял, что насоздал несколько как проба (лишними)"
   ]
  },
  {
   "cell_type": "code",
   "execution_count": 91,
   "metadata": {},
   "outputs": [
    {
     "name": "stdout",
     "output_type": "stream",
     "text": [
      "sum: [1.0000000e+02 3.4108496e-11]\n",
      "Bias: -1.862645149230957e-09\n",
      "Error: 1.0519870556890965e-09\n"
     ]
    }
   ],
   "source": [
    "X = data[['volume', 'color_class']]\n",
    "y = data['price']\n",
    "reg = LinearRegression().fit(X, y)\n",
    "print('sum: {}'.format(reg.coef_))\n",
    "print('Bias: {}'.format(reg.intercept_))\n",
    "\n",
    "pred_values = reg.predict(data[['volume', 'color_class']])\n",
    "print('Error: {}'.format(mean_absolute_error(pred_values, y)))"
   ]
  },
  {
   "cell_type": "code",
   "execution_count": 92,
   "metadata": {},
   "outputs": [
    {
     "data": {
      "text/plain": [
       "3063850.0"
      ]
     },
     "execution_count": 92,
     "metadata": {},
     "output_type": "execute_result"
    }
   ],
   "source": [
    "y.median()"
   ]
  },
  {
   "cell_type": "code",
   "execution_count": 93,
   "metadata": {},
   "outputs": [],
   "source": [
    "# посмотрим на корреляцию"
   ]
  },
  {
   "cell_type": "code",
   "execution_count": 94,
   "metadata": {},
   "outputs": [],
   "source": [
    "import seaborn as sns\n",
    "import matplotlib.pyplot as plt"
   ]
  },
  {
   "cell_type": "code",
   "execution_count": 95,
   "metadata": {},
   "outputs": [
    {
     "name": "stdout",
     "output_type": "stream",
     "text": [
      "     houses  red  blue  white  color_class    price  volume\n",
      "0       361   10    60     96            5  5760000   57600\n",
      "1       655   12    22     49            5  1293600   12936\n",
      "2       866   10    43     52            3  2236000   22360\n",
      "3       329   16    44     76            5  5350400   53504\n",
      "4       164   17    39     67            5  4442100   44421\n",
      "..      ...  ...   ...    ...          ...      ...     ...\n",
      "495      29   14    62     81            5  7030800   70308\n",
      "496     380   14    29     65            3  2639000   26390\n",
      "497     226   20    41     75            5  6150000   61500\n",
      "498     818   12    52     98            3  6115200   61152\n",
      "499      86    5    52     53            3  1378000   13780\n",
      "\n",
      "[500 rows x 7 columns]\n"
     ]
    }
   ],
   "source": [
    "# удаляем ненужные/пробные столбцы\n",
    "data.drop(['vol', 'volome'], axis='columns', inplace=True)\n",
    "print(data)"
   ]
  },
  {
   "cell_type": "code",
   "execution_count": 96,
   "metadata": {},
   "outputs": [
    {
     "data": {
      "image/png": "[encoded data removed]",
      "text/plain": [
       "<Figure size 864x864 with 2 Axes>"
      ]
     },
     "metadata": {
      "needs_background": "light"
     },
     "output_type": "display_data"
    }
   ],
   "source": [
    "sns.heatmap(data.corr(), annot=True,cmap='RdBu',linewidths=0.2)\n",
    "fig=plt.gcf()\n",
    "fig.set_size_inches(12,12)\n",
    "plt.show()"
   ]
  },
  {
   "cell_type": "code",
   "execution_count": 97,
   "metadata": {},
   "outputs": [
    {
     "name": "stdout",
     "output_type": "stream",
     "text": [
      "sum: [100.]\n",
      "Bias: -4.656612873077393e-10\n",
      "Error: 1.919688656926155e-10\n"
     ]
    }
   ],
   "source": [
    "X = data[['volume']]\n",
    "y = data['price']\n",
    "reg = LinearRegression().fit(X, y)\n",
    "print('sum: {}'.format(reg.coef_))\n",
    "print('Bias: {}'.format(reg.intercept_))\n",
    "\n",
    "pred_values = reg.predict(data[['volume']])\n",
    "print('Error: {}'.format(mean_absolute_error(pred_values, y)))"
   ]
  },
  {
   "cell_type": "code",
   "execution_count": 98,
   "metadata": {},
   "outputs": [],
   "source": [
    "# data.groupby([\"red\",\"volume\"])[\"price\"].mean()"
   ]
  },
  {
   "cell_type": "code",
   "execution_count": 99,
   "metadata": {},
   "outputs": [
    {
     "data": {
      "image/png": "[encoded data removed]",
      "text/plain": [
       "<Figure size 432x288 with 1 Axes>"
      ]
     },
     "metadata": {
      "needs_background": "light"
     },
     "output_type": "display_data"
    }
   ],
   "source": [
    "sns.distplot(data.price, kde = True, bins= 30);"
   ]
  },
  {
   "cell_type": "code",
   "execution_count": 100,
   "metadata": {},
   "outputs": [
    {
     "data": {
      "text/plain": [
       "<seaborn.axisgrid.FacetGrid at 0x17d13b54c08>"
      ]
     },
     "execution_count": 100,
     "metadata": {},
     "output_type": "execute_result"
    },
    {
     "data": {
      "image/png": "[encoded data removed]",
      "text/plain": [
       "<Figure size 360x360 with 1 Axes>"
      ]
     },
     "metadata": {
      "needs_background": "light"
     },
     "output_type": "display_data"
    }
   ],
   "source": [
    "sns.catplot(x='color_class', y='price', \n",
    "            data=data,jitter='0.25')"
   ]
  },
  {
   "cell_type": "code",
   "execution_count": 102,
   "metadata": {},
   "outputs": [
    {
     "data": {
      "image/png": "[encoded data removed]",
      "text/plain": [
       "<Figure size 432x288 with 1 Axes>"
      ]
     },
     "metadata": {
      "needs_background": "light"
     },
     "output_type": "display_data"
    }
   ],
   "source": [
    "# показываю взаимосвязь цены и класса, а также разных цветов\n",
    "sns.lineplot(x=\"color_class\",y=\"price\",data=data);"
   ]
  },
  {
   "cell_type": "code",
   "execution_count": 104,
   "metadata": {},
   "outputs": [],
   "source": [
    "# sns.lineplot(x=\"houses\",y=\"price\",data=data);"
   ]
  },
  {
   "cell_type": "code",
   "execution_count": 105,
   "metadata": {},
   "outputs": [
    {
     "data": {
      "image/png": "[encoded data removed]",
      "text/plain": [
       "<Figure size 432x288 with 1 Axes>"
      ]
     },
     "metadata": {
      "needs_background": "light"
     },
     "output_type": "display_data"
    }
   ],
   "source": [
    "sns.lineplot(x=\"red\",y=\"price\",data=data);"
   ]
  },
  {
   "cell_type": "code",
   "execution_count": 106,
   "metadata": {},
   "outputs": [
    {
     "data": {
      "image/png": "[encoded data removed]",
      "text/plain": [
       "<Figure size 432x288 with 1 Axes>"
      ]
     },
     "metadata": {
      "needs_background": "light"
     },
     "output_type": "display_data"
    }
   ],
   "source": [
    "sns.lineplot(x=\"blue\",y=\"price\",data=data);"
   ]
  },
  {
   "cell_type": "code",
   "execution_count": 107,
   "metadata": {},
   "outputs": [
    {
     "data": {
      "image/png": "[encoded data removed]",
      "text/plain": [
       "<Figure size 432x288 with 1 Axes>"
      ]
     },
     "metadata": {
      "needs_background": "light"
     },
     "output_type": "display_data"
    }
   ],
   "source": [
    "sns.lineplot(x=\"white\",y=\"price\",data=data);"
   ]
  },
  {
   "cell_type": "code",
   "execution_count": null,
   "metadata": {},
   "outputs": [],
   "source": []
  }
 ],
 "metadata": {
  "kernelspec": {
   "display_name": "Python 3",
   "language": "python",
   "name": "python3"
  },
  "language_info": {
   "codemirror_mode": {
    "name": "ipython",
    "version": 3
   },
   "file_extension": ".py",
   "mimetype": "text/x-python",
   "name": "python",
   "nbconvert_exporter": "python",
   "pygments_lexer": "ipython3",
   "version": "3.7.6"
  }
 },
 "nbformat": 4,
 "nbformat_minor": 4
}
