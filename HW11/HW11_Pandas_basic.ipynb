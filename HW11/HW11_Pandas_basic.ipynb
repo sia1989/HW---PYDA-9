{
 "cells": [
  {
   "cell_type": "markdown",
   "metadata": {},
   "source": [
    "Задание 1\n",
    "\n",
    "Скачайте с сайта https://grouplens.org/datasets/movielens/ датасет любого размера. \n",
    "\n",
    "Определите какому фильму было выставлено больше всего оценок 5.0."
   ]
  },
  {
   "cell_type": "code",
   "execution_count": 1,
   "metadata": {},
   "outputs": [],
   "source": [
    "import pandas as pd"
   ]
  },
  {
   "cell_type": "code",
   "execution_count": 4,
   "metadata": {},
   "outputs": [],
   "source": [
    "data = pd.read_csv('ratings.csv')\n",
    "data_2 = pd.read_csv('movies.csv')"
   ]
  },
  {
   "cell_type": "code",
   "execution_count": 5,
   "metadata": {},
   "outputs": [
    {
     "data": {
      "text/plain": [
       "(100836, 4)"
      ]
     },
     "execution_count": 5,
     "metadata": {},
     "output_type": "execute_result"
    }
   ],
   "source": [
    "data.shape"
   ]
  },
  {
   "cell_type": "code",
   "execution_count": 8,
   "metadata": {},
   "outputs": [
    {
     "data": {
      "text/html": [
       "<div>\n",
       "<style scoped>\n",
       "    .dataframe tbody tr th:only-of-type {\n",
       "        vertical-align: middle;\n",
       "    }\n",
       "\n",
       "    .dataframe tbody tr th {\n",
       "        vertical-align: top;\n",
       "    }\n",
       "\n",
       "    .dataframe thead th {\n",
       "        text-align: right;\n",
       "    }\n",
       "</style>\n",
       "<table border=\"1\" class=\"dataframe\">\n",
       "  <thead>\n",
       "    <tr style=\"text-align: right;\">\n",
       "      <th></th>\n",
       "      <th>userId</th>\n",
       "      <th>movieId</th>\n",
       "      <th>rating</th>\n",
       "      <th>timestamp</th>\n",
       "    </tr>\n",
       "  </thead>\n",
       "  <tbody>\n",
       "    <tr>\n",
       "      <th>3</th>\n",
       "      <td>1</td>\n",
       "      <td>47</td>\n",
       "      <td>5.0</td>\n",
       "      <td>964983815</td>\n",
       "    </tr>\n",
       "    <tr>\n",
       "      <th>4</th>\n",
       "      <td>1</td>\n",
       "      <td>50</td>\n",
       "      <td>5.0</td>\n",
       "      <td>964982931</td>\n",
       "    </tr>\n",
       "    <tr>\n",
       "      <th>6</th>\n",
       "      <td>1</td>\n",
       "      <td>101</td>\n",
       "      <td>5.0</td>\n",
       "      <td>964980868</td>\n",
       "    </tr>\n",
       "    <tr>\n",
       "      <th>8</th>\n",
       "      <td>1</td>\n",
       "      <td>151</td>\n",
       "      <td>5.0</td>\n",
       "      <td>964984041</td>\n",
       "    </tr>\n",
       "    <tr>\n",
       "      <th>9</th>\n",
       "      <td>1</td>\n",
       "      <td>157</td>\n",
       "      <td>5.0</td>\n",
       "      <td>964984100</td>\n",
       "    </tr>\n",
       "    <tr>\n",
       "      <th>...</th>\n",
       "      <td>...</td>\n",
       "      <td>...</td>\n",
       "      <td>...</td>\n",
       "      <td>...</td>\n",
       "    </tr>\n",
       "    <tr>\n",
       "      <th>100814</th>\n",
       "      <td>610</td>\n",
       "      <td>158238</td>\n",
       "      <td>5.0</td>\n",
       "      <td>1479545219</td>\n",
       "    </tr>\n",
       "    <tr>\n",
       "      <th>100829</th>\n",
       "      <td>610</td>\n",
       "      <td>164179</td>\n",
       "      <td>5.0</td>\n",
       "      <td>1493845631</td>\n",
       "    </tr>\n",
       "    <tr>\n",
       "      <th>100832</th>\n",
       "      <td>610</td>\n",
       "      <td>168248</td>\n",
       "      <td>5.0</td>\n",
       "      <td>1493850091</td>\n",
       "    </tr>\n",
       "    <tr>\n",
       "      <th>100833</th>\n",
       "      <td>610</td>\n",
       "      <td>168250</td>\n",
       "      <td>5.0</td>\n",
       "      <td>1494273047</td>\n",
       "    </tr>\n",
       "    <tr>\n",
       "      <th>100834</th>\n",
       "      <td>610</td>\n",
       "      <td>168252</td>\n",
       "      <td>5.0</td>\n",
       "      <td>1493846352</td>\n",
       "    </tr>\n",
       "  </tbody>\n",
       "</table>\n",
       "<p>13211 rows × 4 columns</p>\n",
       "</div>"
      ],
      "text/plain": [
       "        userId  movieId  rating   timestamp\n",
       "3            1       47     5.0   964983815\n",
       "4            1       50     5.0   964982931\n",
       "6            1      101     5.0   964980868\n",
       "8            1      151     5.0   964984041\n",
       "9            1      157     5.0   964984100\n",
       "...        ...      ...     ...         ...\n",
       "100814     610   158238     5.0  1479545219\n",
       "100829     610   164179     5.0  1493845631\n",
       "100832     610   168248     5.0  1493850091\n",
       "100833     610   168250     5.0  1494273047\n",
       "100834     610   168252     5.0  1493846352\n",
       "\n",
       "[13211 rows x 4 columns]"
      ]
     },
     "execution_count": 8,
     "metadata": {},
     "output_type": "execute_result"
    }
   ],
   "source": [
    "x = data[data['rating'].isin(['5.0'])]\n",
    "x"
   ]
  },
  {
   "cell_type": "code",
   "execution_count": 11,
   "metadata": {},
   "outputs": [],
   "source": [
    "# x.sort_values(by=['movieId'], ascending=[True]).head(10)"
   ]
  },
  {
   "cell_type": "code",
   "execution_count": 14,
   "metadata": {},
   "outputs": [
    {
     "data": {
      "text/plain": [
       "318    153\n",
       "Name: movieId, dtype: int64"
      ]
     },
     "execution_count": 14,
     "metadata": {},
     "output_type": "execute_result"
    }
   ],
   "source": [
    "a = (x['movieId'].value_counts().head(1))\n",
    "a"
   ]
  },
  {
   "cell_type": "code",
   "execution_count": 15,
   "metadata": {},
   "outputs": [],
   "source": [
    "y = data_2[data_2['movieId'].isin([list(dict(a).keys())[0]])]"
   ]
  },
  {
   "cell_type": "code",
   "execution_count": 16,
   "metadata": {},
   "outputs": [
    {
     "data": {
      "text/html": [
       "<div>\n",
       "<style scoped>\n",
       "    .dataframe tbody tr th:only-of-type {\n",
       "        vertical-align: middle;\n",
       "    }\n",
       "\n",
       "    .dataframe tbody tr th {\n",
       "        vertical-align: top;\n",
       "    }\n",
       "\n",
       "    .dataframe thead th {\n",
       "        text-align: right;\n",
       "    }\n",
       "</style>\n",
       "<table border=\"1\" class=\"dataframe\">\n",
       "  <thead>\n",
       "    <tr style=\"text-align: right;\">\n",
       "      <th></th>\n",
       "      <th>movieId</th>\n",
       "      <th>title</th>\n",
       "      <th>genres</th>\n",
       "    </tr>\n",
       "  </thead>\n",
       "  <tbody>\n",
       "    <tr>\n",
       "      <th>277</th>\n",
       "      <td>318</td>\n",
       "      <td>Shawshank Redemption, The (1994)</td>\n",
       "      <td>Crime|Drama</td>\n",
       "    </tr>\n",
       "  </tbody>\n",
       "</table>\n",
       "</div>"
      ],
      "text/plain": [
       "     movieId                             title       genres\n",
       "277      318  Shawshank Redemption, The (1994)  Crime|Drama"
      ]
     },
     "execution_count": 16,
     "metadata": {},
     "output_type": "execute_result"
    }
   ],
   "source": [
    "y"
   ]
  },
  {
   "cell_type": "code",
   "execution_count": null,
   "metadata": {},
   "outputs": [],
   "source": []
  },
  {
   "cell_type": "markdown",
   "metadata": {},
   "source": [
    "Задание 2\n",
    "\n",
    "По данным файла power.csv посчитайте суммарное потребление стран Прибалтики (Латвия, Литва и Эстония) категорий 4, 12 и 21 за период с 2005 по 2010 года. Не учитывайте в расчетах отрицательные значения quantity."
   ]
  },
  {
   "cell_type": "code",
   "execution_count": 17,
   "metadata": {},
   "outputs": [],
   "source": [
    "power = pd.read_csv('power.csv')"
   ]
  },
  {
   "cell_type": "code",
   "execution_count": 19,
   "metadata": {},
   "outputs": [],
   "source": [
    "filtered_power = power[((power['country']=='Latvia') | (power['country']=='Lithuania') | (power['country']=='Estonia')) & ((power['category']==4) | (power['category']==12 | (power['category']==21)) & ((2005<=power['year']) & (power['year'])<=2010)) ]"
   ]
  },
  {
   "cell_type": "code",
   "execution_count": 20,
   "metadata": {},
   "outputs": [
    {
     "data": {
      "text/html": [
       "<div>\n",
       "<style scoped>\n",
       "    .dataframe tbody tr th:only-of-type {\n",
       "        vertical-align: middle;\n",
       "    }\n",
       "\n",
       "    .dataframe tbody tr th {\n",
       "        vertical-align: top;\n",
       "    }\n",
       "\n",
       "    .dataframe thead th {\n",
       "        text-align: right;\n",
       "    }\n",
       "</style>\n",
       "<table border=\"1\" class=\"dataframe\">\n",
       "  <thead>\n",
       "    <tr style=\"text-align: right;\">\n",
       "      <th></th>\n",
       "      <th>country</th>\n",
       "      <th>year</th>\n",
       "      <th>quantity</th>\n",
       "      <th>category</th>\n",
       "    </tr>\n",
       "  </thead>\n",
       "  <tbody>\n",
       "    <tr>\n",
       "      <th>373</th>\n",
       "      <td>Lithuania</td>\n",
       "      <td>2014</td>\n",
       "      <td>39.0</td>\n",
       "      <td>1</td>\n",
       "    </tr>\n",
       "    <tr>\n",
       "      <th>374</th>\n",
       "      <td>Lithuania</td>\n",
       "      <td>2013</td>\n",
       "      <td>192.0</td>\n",
       "      <td>1</td>\n",
       "    </tr>\n",
       "    <tr>\n",
       "      <th>375</th>\n",
       "      <td>Lithuania</td>\n",
       "      <td>2012</td>\n",
       "      <td>196.0</td>\n",
       "      <td>1</td>\n",
       "    </tr>\n",
       "    <tr>\n",
       "      <th>376</th>\n",
       "      <td>Lithuania</td>\n",
       "      <td>2011</td>\n",
       "      <td>171.0</td>\n",
       "      <td>1</td>\n",
       "    </tr>\n",
       "    <tr>\n",
       "      <th>377</th>\n",
       "      <td>Lithuania</td>\n",
       "      <td>2010</td>\n",
       "      <td>158.0</td>\n",
       "      <td>1</td>\n",
       "    </tr>\n",
       "    <tr>\n",
       "      <th>...</th>\n",
       "      <td>...</td>\n",
       "      <td>...</td>\n",
       "      <td>...</td>\n",
       "      <td>...</td>\n",
       "    </tr>\n",
       "    <tr>\n",
       "      <th>26522</th>\n",
       "      <td>Lithuania</td>\n",
       "      <td>2006</td>\n",
       "      <td>1.0</td>\n",
       "      <td>4</td>\n",
       "    </tr>\n",
       "    <tr>\n",
       "      <th>26523</th>\n",
       "      <td>Lithuania</td>\n",
       "      <td>2005</td>\n",
       "      <td>1.0</td>\n",
       "      <td>4</td>\n",
       "    </tr>\n",
       "    <tr>\n",
       "      <th>26524</th>\n",
       "      <td>Lithuania</td>\n",
       "      <td>2004</td>\n",
       "      <td>1.0</td>\n",
       "      <td>4</td>\n",
       "    </tr>\n",
       "    <tr>\n",
       "      <th>26525</th>\n",
       "      <td>Lithuania</td>\n",
       "      <td>2003</td>\n",
       "      <td>1.0</td>\n",
       "      <td>4</td>\n",
       "    </tr>\n",
       "    <tr>\n",
       "      <th>26526</th>\n",
       "      <td>Lithuania</td>\n",
       "      <td>2002</td>\n",
       "      <td>1.0</td>\n",
       "      <td>4</td>\n",
       "    </tr>\n",
       "  </tbody>\n",
       "</table>\n",
       "<p>220 rows × 4 columns</p>\n",
       "</div>"
      ],
      "text/plain": [
       "         country  year  quantity  category\n",
       "373    Lithuania  2014      39.0         1\n",
       "374    Lithuania  2013     192.0         1\n",
       "375    Lithuania  2012     196.0         1\n",
       "376    Lithuania  2011     171.0         1\n",
       "377    Lithuania  2010     158.0         1\n",
       "...          ...   ...       ...       ...\n",
       "26522  Lithuania  2006       1.0         4\n",
       "26523  Lithuania  2005       1.0         4\n",
       "26524  Lithuania  2004       1.0         4\n",
       "26525  Lithuania  2003       1.0         4\n",
       "26526  Lithuania  2002       1.0         4\n",
       "\n",
       "[220 rows x 4 columns]"
      ]
     },
     "execution_count": 20,
     "metadata": {},
     "output_type": "execute_result"
    }
   ],
   "source": [
    "# показать отфильтрованный список\n",
    "\n",
    "filtered_power"
   ]
  },
  {
   "cell_type": "code",
   "execution_count": 21,
   "metadata": {},
   "outputs": [
    {
     "data": {
      "text/plain": [
       "array(['Lithuania', 'Estonia', 'Latvia'], dtype=object)"
      ]
     },
     "execution_count": 21,
     "metadata": {},
     "output_type": "execute_result"
    }
   ],
   "source": [
    "# ищем уникальные значения:\n",
    "filtered_power.country.unique()"
   ]
  },
  {
   "cell_type": "code",
   "execution_count": 22,
   "metadata": {},
   "outputs": [
    {
     "data": {
      "text/plain": [
       "array([1, 4], dtype=int64)"
      ]
     },
     "execution_count": 22,
     "metadata": {},
     "output_type": "execute_result"
    }
   ],
   "source": [
    "filtered_power.category.unique()"
   ]
  },
  {
   "cell_type": "code",
   "execution_count": 23,
   "metadata": {},
   "outputs": [
    {
     "data": {
      "text/plain": [
       "array([2014, 2013, 2012, 2011, 2010, 2009, 2008, 2007, 2006, 2005, 2004,\n",
       "       2003, 2002, 2001, 2000, 1999, 1998, 1997, 1996, 1995, 1994, 1993,\n",
       "       1992], dtype=int64)"
      ]
     },
     "execution_count": 23,
     "metadata": {},
     "output_type": "execute_result"
    }
   ],
   "source": [
    "filtered_power.year.unique()"
   ]
  },
  {
   "cell_type": "code",
   "execution_count": 25,
   "metadata": {},
   "outputs": [
    {
     "data": {
      "text/plain": [
       "array([ 39., 192., 196., 171., 158., 100., 105.,   0.,   3.,   9.,   1.,\n",
       "        -2.,  -1.,  -7.,   6.,  -6.,  41., 193., 178., 159., 161., 103.,\n",
       "       112.,   2.,   5.])"
      ]
     },
     "execution_count": 25,
     "metadata": {},
     "output_type": "execute_result"
    }
   ],
   "source": [
    "filtered_power.quantity.unique()"
   ]
  },
  {
   "cell_type": "code",
   "execution_count": 31,
   "metadata": {},
   "outputs": [
    {
     "ename": "TypeError",
     "evalue": "'method' object is not subscriptable",
     "output_type": "error",
     "traceback": [
      "\u001b[1;31m---------------------------------------------------------------------------\u001b[0m",
      "\u001b[1;31mTypeError\u001b[0m                                 Traceback (most recent call last)",
      "\u001b[1;32m<ipython-input-31-bef99c34824b>\u001b[0m in \u001b[0;36m<module>\u001b[1;34m\u001b[0m\n\u001b[0;32m      1\u001b[0m \u001b[1;31m# считаем суммарное потребление:\u001b[0m\u001b[1;33m\u001b[0m\u001b[1;33m\u001b[0m\u001b[1;33m\u001b[0m\u001b[0m\n\u001b[0;32m      2\u001b[0m \u001b[1;33m\u001b[0m\u001b[0m\n\u001b[1;32m----> 3\u001b[1;33m \u001b[0msum\u001b[0m\u001b[1;33m(\u001b[0m\u001b[0mfiltered_power\u001b[0m\u001b[1;33m.\u001b[0m\u001b[0mquery\u001b[0m\u001b[1;33m[\u001b[0m\u001b[1;34m'quantity'\u001b[0m\u001b[1;33m]\u001b[0m\u001b[1;33m)\u001b[0m\u001b[1;33m\u001b[0m\u001b[1;33m\u001b[0m\u001b[0m\n\u001b[0m",
      "\u001b[1;31mTypeError\u001b[0m: 'method' object is not subscriptable"
     ]
    }
   ],
   "source": [
    "# считаем суммарное потребление:\n",
    "# но почему-то не срабатывает!\n",
    "\n",
    "sum(filtered_power.query['quantity'])"
   ]
  },
  {
   "cell_type": "code",
   "execution_count": 32,
   "metadata": {},
   "outputs": [
    {
     "data": {
      "text/plain": [
       "4707.0"
      ]
     },
     "execution_count": 32,
     "metadata": {},
     "output_type": "execute_result"
    }
   ],
   "source": [
    "# считаем суммарное потребление без включения отрицательных значений:\n",
    "sum(filtered_power.query('quantity > 0')['quantity'])"
   ]
  },
  {
   "cell_type": "markdown",
   "metadata": {},
   "source": [
    "Задание 3\n",
    "\n",
    "Выберите страницу любого сайта с табличными данными. Импортируйте таблицы в pandas dataframe.\n"
   ]
  },
  {
   "cell_type": "code",
   "execution_count": 41,
   "metadata": {},
   "outputs": [],
   "source": [
    "html_1 = 'https://www.rshb.ru/'"
   ]
  },
  {
   "cell_type": "code",
   "execution_count": 47,
   "metadata": {},
   "outputs": [],
   "source": [
    "df_1 = pd.read_html(html_1, encoding='utf-8')"
   ]
  },
  {
   "cell_type": "code",
   "execution_count": 50,
   "metadata": {},
   "outputs": [
    {
     "data": {
      "text/plain": [
       "[               валюта  покупка  продажа\n",
       " 0  USD (до 3 000 ед.)    66.95    70.45\n",
       " 1  USD (от 3 000 ед.)    67.00    70.40\n",
       " 2  EUR (до 3 000 ед.)    75.20    78.70\n",
       " 3  EUR (от 3 000 ед.)    75.25    78.65,\n",
       "     Металл   покупка   продажа\n",
       " 0   Золото  3 621,00  3 852,00\n",
       " 1  Серебро      3750      3990,\n",
       "                Монета продажа  покупка\n",
       " 0  Георгийпобедоносец   1 850     1400\n",
       " 1  Георгийпобедоносец  35 200    30400\n",
       " 2            Славянка  35 500    30600]"
      ]
     },
     "execution_count": 50,
     "metadata": {},
     "output_type": "execute_result"
    }
   ],
   "source": [
    "df_1"
   ]
  },
  {
   "cell_type": "code",
   "execution_count": 51,
   "metadata": {},
   "outputs": [
    {
     "data": {
      "text/html": [
       "<div>\n",
       "<style scoped>\n",
       "    .dataframe tbody tr th:only-of-type {\n",
       "        vertical-align: middle;\n",
       "    }\n",
       "\n",
       "    .dataframe tbody tr th {\n",
       "        vertical-align: top;\n",
       "    }\n",
       "\n",
       "    .dataframe thead th {\n",
       "        text-align: right;\n",
       "    }\n",
       "</style>\n",
       "<table border=\"1\" class=\"dataframe\">\n",
       "  <thead>\n",
       "    <tr style=\"text-align: right;\">\n",
       "      <th></th>\n",
       "      <th>валюта</th>\n",
       "      <th>покупка</th>\n",
       "      <th>продажа</th>\n",
       "    </tr>\n",
       "  </thead>\n",
       "  <tbody>\n",
       "    <tr>\n",
       "      <th>0</th>\n",
       "      <td>USD (до 3 000 ед.)</td>\n",
       "      <td>66.95</td>\n",
       "      <td>70.45</td>\n",
       "    </tr>\n",
       "    <tr>\n",
       "      <th>1</th>\n",
       "      <td>USD (от 3 000 ед.)</td>\n",
       "      <td>67.00</td>\n",
       "      <td>70.40</td>\n",
       "    </tr>\n",
       "    <tr>\n",
       "      <th>2</th>\n",
       "      <td>EUR (до 3 000 ед.)</td>\n",
       "      <td>75.20</td>\n",
       "      <td>78.70</td>\n",
       "    </tr>\n",
       "    <tr>\n",
       "      <th>3</th>\n",
       "      <td>EUR (от 3 000 ед.)</td>\n",
       "      <td>75.25</td>\n",
       "      <td>78.65</td>\n",
       "    </tr>\n",
       "  </tbody>\n",
       "</table>\n",
       "</div>"
      ],
      "text/plain": [
       "               валюта  покупка  продажа\n",
       "0  USD (до 3 000 ед.)    66.95    70.45\n",
       "1  USD (от 3 000 ед.)    67.00    70.40\n",
       "2  EUR (до 3 000 ед.)    75.20    78.70\n",
       "3  EUR (от 3 000 ед.)    75.25    78.65"
      ]
     },
     "execution_count": 51,
     "metadata": {},
     "output_type": "execute_result"
    }
   ],
   "source": [
    "df_1[0]"
   ]
  },
  {
   "cell_type": "code",
   "execution_count": 52,
   "metadata": {},
   "outputs": [
    {
     "data": {
      "text/html": [
       "<div>\n",
       "<style scoped>\n",
       "    .dataframe tbody tr th:only-of-type {\n",
       "        vertical-align: middle;\n",
       "    }\n",
       "\n",
       "    .dataframe tbody tr th {\n",
       "        vertical-align: top;\n",
       "    }\n",
       "\n",
       "    .dataframe thead th {\n",
       "        text-align: right;\n",
       "    }\n",
       "</style>\n",
       "<table border=\"1\" class=\"dataframe\">\n",
       "  <thead>\n",
       "    <tr style=\"text-align: right;\">\n",
       "      <th></th>\n",
       "      <th>Металл</th>\n",
       "      <th>покупка</th>\n",
       "      <th>продажа</th>\n",
       "    </tr>\n",
       "  </thead>\n",
       "  <tbody>\n",
       "    <tr>\n",
       "      <th>0</th>\n",
       "      <td>Золото</td>\n",
       "      <td>3 621,00</td>\n",
       "      <td>3 852,00</td>\n",
       "    </tr>\n",
       "    <tr>\n",
       "      <th>1</th>\n",
       "      <td>Серебро</td>\n",
       "      <td>3750</td>\n",
       "      <td>3990</td>\n",
       "    </tr>\n",
       "  </tbody>\n",
       "</table>\n",
       "</div>"
      ],
      "text/plain": [
       "    Металл   покупка   продажа\n",
       "0   Золото  3 621,00  3 852,00\n",
       "1  Серебро      3750      3990"
      ]
     },
     "execution_count": 52,
     "metadata": {},
     "output_type": "execute_result"
    }
   ],
   "source": [
    "df_1[1]"
   ]
  },
  {
   "cell_type": "code",
   "execution_count": 53,
   "metadata": {},
   "outputs": [
    {
     "data": {
      "text/html": [
       "<div>\n",
       "<style scoped>\n",
       "    .dataframe tbody tr th:only-of-type {\n",
       "        vertical-align: middle;\n",
       "    }\n",
       "\n",
       "    .dataframe tbody tr th {\n",
       "        vertical-align: top;\n",
       "    }\n",
       "\n",
       "    .dataframe thead th {\n",
       "        text-align: right;\n",
       "    }\n",
       "</style>\n",
       "<table border=\"1\" class=\"dataframe\">\n",
       "  <thead>\n",
       "    <tr style=\"text-align: right;\">\n",
       "      <th></th>\n",
       "      <th>Монета</th>\n",
       "      <th>продажа</th>\n",
       "      <th>покупка</th>\n",
       "    </tr>\n",
       "  </thead>\n",
       "  <tbody>\n",
       "    <tr>\n",
       "      <th>0</th>\n",
       "      <td>Георгийпобедоносец</td>\n",
       "      <td>1 850</td>\n",
       "      <td>1400</td>\n",
       "    </tr>\n",
       "    <tr>\n",
       "      <th>1</th>\n",
       "      <td>Георгийпобедоносец</td>\n",
       "      <td>35 200</td>\n",
       "      <td>30400</td>\n",
       "    </tr>\n",
       "    <tr>\n",
       "      <th>2</th>\n",
       "      <td>Славянка</td>\n",
       "      <td>35 500</td>\n",
       "      <td>30600</td>\n",
       "    </tr>\n",
       "  </tbody>\n",
       "</table>\n",
       "</div>"
      ],
      "text/plain": [
       "               Монета продажа  покупка\n",
       "0  Георгийпобедоносец   1 850     1400\n",
       "1  Георгийпобедоносец  35 200    30400\n",
       "2            Славянка  35 500    30600"
      ]
     },
     "execution_count": 53,
     "metadata": {},
     "output_type": "execute_result"
    }
   ],
   "source": [
    "df_1[2]"
   ]
  },
  {
   "cell_type": "code",
   "execution_count": 55,
   "metadata": {},
   "outputs": [],
   "source": [
    "# вариант без таблиц:\n",
    "html_2 = 'https://www.svo.aero/ru/departure/timetable'"
   ]
  },
  {
   "cell_type": "code",
   "execution_count": 56,
   "metadata": {},
   "outputs": [
    {
     "ename": "ValueError",
     "evalue": "No tables found",
     "output_type": "error",
     "traceback": [
      "\u001b[1;31m---------------------------------------------------------------------------\u001b[0m",
      "\u001b[1;31mValueError\u001b[0m                                Traceback (most recent call last)",
      "\u001b[1;32m<ipython-input-56-9268f9bdc99d>\u001b[0m in \u001b[0;36m<module>\u001b[1;34m\u001b[0m\n\u001b[1;32m----> 1\u001b[1;33m \u001b[0mdf_2\u001b[0m \u001b[1;33m=\u001b[0m \u001b[0mpd\u001b[0m\u001b[1;33m.\u001b[0m\u001b[0mread_html\u001b[0m\u001b[1;33m(\u001b[0m\u001b[0mhtml_2\u001b[0m\u001b[1;33m,\u001b[0m \u001b[0mencoding\u001b[0m\u001b[1;33m=\u001b[0m\u001b[1;34m'utf-8'\u001b[0m\u001b[1;33m)\u001b[0m\u001b[1;33m\u001b[0m\u001b[1;33m\u001b[0m\u001b[0m\n\u001b[0m",
      "\u001b[1;32m~\\anaconda3\\lib\\site-packages\\pandas\\io\\html.py\u001b[0m in \u001b[0;36mread_html\u001b[1;34m(io, match, flavor, header, index_col, skiprows, attrs, parse_dates, thousands, encoding, decimal, converters, na_values, keep_default_na, displayed_only)\u001b[0m\n\u001b[0;32m   1098\u001b[0m         \u001b[0mna_values\u001b[0m\u001b[1;33m=\u001b[0m\u001b[0mna_values\u001b[0m\u001b[1;33m,\u001b[0m\u001b[1;33m\u001b[0m\u001b[1;33m\u001b[0m\u001b[0m\n\u001b[0;32m   1099\u001b[0m         \u001b[0mkeep_default_na\u001b[0m\u001b[1;33m=\u001b[0m\u001b[0mkeep_default_na\u001b[0m\u001b[1;33m,\u001b[0m\u001b[1;33m\u001b[0m\u001b[1;33m\u001b[0m\u001b[0m\n\u001b[1;32m-> 1100\u001b[1;33m         \u001b[0mdisplayed_only\u001b[0m\u001b[1;33m=\u001b[0m\u001b[0mdisplayed_only\u001b[0m\u001b[1;33m,\u001b[0m\u001b[1;33m\u001b[0m\u001b[1;33m\u001b[0m\u001b[0m\n\u001b[0m\u001b[0;32m   1101\u001b[0m     )\n",
      "\u001b[1;32m~\\anaconda3\\lib\\site-packages\\pandas\\io\\html.py\u001b[0m in \u001b[0;36m_parse\u001b[1;34m(flavor, io, match, attrs, encoding, displayed_only, **kwargs)\u001b[0m\n\u001b[0;32m    913\u001b[0m             \u001b[1;32mbreak\u001b[0m\u001b[1;33m\u001b[0m\u001b[1;33m\u001b[0m\u001b[0m\n\u001b[0;32m    914\u001b[0m     \u001b[1;32melse\u001b[0m\u001b[1;33m:\u001b[0m\u001b[1;33m\u001b[0m\u001b[1;33m\u001b[0m\u001b[0m\n\u001b[1;32m--> 915\u001b[1;33m         \u001b[1;32mraise\u001b[0m \u001b[0mretained\u001b[0m\u001b[1;33m\u001b[0m\u001b[1;33m\u001b[0m\u001b[0m\n\u001b[0m\u001b[0;32m    916\u001b[0m \u001b[1;33m\u001b[0m\u001b[0m\n\u001b[0;32m    917\u001b[0m     \u001b[0mret\u001b[0m \u001b[1;33m=\u001b[0m \u001b[1;33m[\u001b[0m\u001b[1;33m]\u001b[0m\u001b[1;33m\u001b[0m\u001b[1;33m\u001b[0m\u001b[0m\n",
      "\u001b[1;32m~\\anaconda3\\lib\\site-packages\\pandas\\io\\html.py\u001b[0m in \u001b[0;36m_parse\u001b[1;34m(flavor, io, match, attrs, encoding, displayed_only, **kwargs)\u001b[0m\n\u001b[0;32m    893\u001b[0m \u001b[1;33m\u001b[0m\u001b[0m\n\u001b[0;32m    894\u001b[0m         \u001b[1;32mtry\u001b[0m\u001b[1;33m:\u001b[0m\u001b[1;33m\u001b[0m\u001b[1;33m\u001b[0m\u001b[0m\n\u001b[1;32m--> 895\u001b[1;33m             \u001b[0mtables\u001b[0m \u001b[1;33m=\u001b[0m \u001b[0mp\u001b[0m\u001b[1;33m.\u001b[0m\u001b[0mparse_tables\u001b[0m\u001b[1;33m(\u001b[0m\u001b[1;33m)\u001b[0m\u001b[1;33m\u001b[0m\u001b[1;33m\u001b[0m\u001b[0m\n\u001b[0m\u001b[0;32m    896\u001b[0m         \u001b[1;32mexcept\u001b[0m \u001b[0mValueError\u001b[0m \u001b[1;32mas\u001b[0m \u001b[0mcaught\u001b[0m\u001b[1;33m:\u001b[0m\u001b[1;33m\u001b[0m\u001b[1;33m\u001b[0m\u001b[0m\n\u001b[0;32m    897\u001b[0m             \u001b[1;31m# if `io` is an io-like object, check if it's seekable\u001b[0m\u001b[1;33m\u001b[0m\u001b[1;33m\u001b[0m\u001b[1;33m\u001b[0m\u001b[0m\n",
      "\u001b[1;32m~\\anaconda3\\lib\\site-packages\\pandas\\io\\html.py\u001b[0m in \u001b[0;36mparse_tables\u001b[1;34m(self)\u001b[0m\n\u001b[0;32m    211\u001b[0m         \u001b[0mlist\u001b[0m \u001b[0mof\u001b[0m \u001b[0mparsed\u001b[0m \u001b[1;33m(\u001b[0m\u001b[0mheader\u001b[0m\u001b[1;33m,\u001b[0m \u001b[0mbody\u001b[0m\u001b[1;33m,\u001b[0m \u001b[0mfooter\u001b[0m\u001b[1;33m)\u001b[0m \u001b[0mtuples\u001b[0m \u001b[1;32mfrom\u001b[0m \u001b[0mtables\u001b[0m\u001b[1;33m.\u001b[0m\u001b[1;33m\u001b[0m\u001b[1;33m\u001b[0m\u001b[0m\n\u001b[0;32m    212\u001b[0m         \"\"\"\n\u001b[1;32m--> 213\u001b[1;33m         \u001b[0mtables\u001b[0m \u001b[1;33m=\u001b[0m \u001b[0mself\u001b[0m\u001b[1;33m.\u001b[0m\u001b[0m_parse_tables\u001b[0m\u001b[1;33m(\u001b[0m\u001b[0mself\u001b[0m\u001b[1;33m.\u001b[0m\u001b[0m_build_doc\u001b[0m\u001b[1;33m(\u001b[0m\u001b[1;33m)\u001b[0m\u001b[1;33m,\u001b[0m \u001b[0mself\u001b[0m\u001b[1;33m.\u001b[0m\u001b[0mmatch\u001b[0m\u001b[1;33m,\u001b[0m \u001b[0mself\u001b[0m\u001b[1;33m.\u001b[0m\u001b[0mattrs\u001b[0m\u001b[1;33m)\u001b[0m\u001b[1;33m\u001b[0m\u001b[1;33m\u001b[0m\u001b[0m\n\u001b[0m\u001b[0;32m    214\u001b[0m         \u001b[1;32mreturn\u001b[0m \u001b[1;33m(\u001b[0m\u001b[0mself\u001b[0m\u001b[1;33m.\u001b[0m\u001b[0m_parse_thead_tbody_tfoot\u001b[0m\u001b[1;33m(\u001b[0m\u001b[0mtable\u001b[0m\u001b[1;33m)\u001b[0m \u001b[1;32mfor\u001b[0m \u001b[0mtable\u001b[0m \u001b[1;32min\u001b[0m \u001b[0mtables\u001b[0m\u001b[1;33m)\u001b[0m\u001b[1;33m\u001b[0m\u001b[1;33m\u001b[0m\u001b[0m\n\u001b[0;32m    215\u001b[0m \u001b[1;33m\u001b[0m\u001b[0m\n",
      "\u001b[1;32m~\\anaconda3\\lib\\site-packages\\pandas\\io\\html.py\u001b[0m in \u001b[0;36m_parse_tables\u001b[1;34m(self, doc, match, attrs)\u001b[0m\n\u001b[0;32m    543\u001b[0m \u001b[1;33m\u001b[0m\u001b[0m\n\u001b[0;32m    544\u001b[0m         \u001b[1;32mif\u001b[0m \u001b[1;32mnot\u001b[0m \u001b[0mtables\u001b[0m\u001b[1;33m:\u001b[0m\u001b[1;33m\u001b[0m\u001b[1;33m\u001b[0m\u001b[0m\n\u001b[1;32m--> 545\u001b[1;33m             \u001b[1;32mraise\u001b[0m \u001b[0mValueError\u001b[0m\u001b[1;33m(\u001b[0m\u001b[1;34m\"No tables found\"\u001b[0m\u001b[1;33m)\u001b[0m\u001b[1;33m\u001b[0m\u001b[1;33m\u001b[0m\u001b[0m\n\u001b[0m\u001b[0;32m    546\u001b[0m \u001b[1;33m\u001b[0m\u001b[0m\n\u001b[0;32m    547\u001b[0m         \u001b[0mresult\u001b[0m \u001b[1;33m=\u001b[0m \u001b[1;33m[\u001b[0m\u001b[1;33m]\u001b[0m\u001b[1;33m\u001b[0m\u001b[1;33m\u001b[0m\u001b[0m\n",
      "\u001b[1;31mValueError\u001b[0m: No tables found"
     ]
    }
   ],
   "source": [
    "df_2 = pd.read_html(html_2, encoding='utf-8')"
   ]
  },
  {
   "cell_type": "code",
   "execution_count": 57,
   "metadata": {},
   "outputs": [],
   "source": [
    "# Более объемная таблица:\n",
    "html_3 = 'https://rasp.yandex.ru/station/9600215'"
   ]
  },
  {
   "cell_type": "code",
   "execution_count": 58,
   "metadata": {},
   "outputs": [],
   "source": [
    "df_3 = pd.read_html(html_3, encoding='utf-8')"
   ]
  },
  {
   "cell_type": "code",
   "execution_count": 65,
   "metadata": {},
   "outputs": [
    {
     "data": {
      "text/plain": [
       "[    0   1   2                                                  3   4  \\\n",
       " 0 NaN NaN NaN  ПоискПочтаКартыМаркетНовостиВидеоКартинкиещёАв... NaN   \n",
       " \n",
       "                      5   6  \n",
       " 0  ВойтиРегион: Москва NaN  ,\n",
       "        0      1      2       3        4      5         6  \\\n",
       " 0  Поиск  Почта  Карты  Маркет  Новости  Видео  Картинки   \n",
       " \n",
       "                                                    7  \n",
       " 0  ещёАвиабилетыАвтоАфишаДеньгиДискЕГЭМузыкаНедви...  ,\n",
       "                                                    0\n",
       " 0  АвиабилетыАвтоАфишаДеньгиДискЕГЭМузыкаНедвижим...,\n",
       "                 0               1\n",
       " 0             NaN           Войти\n",
       " 1             NaN             NaN\n",
       " 2  Регион: Москва  Регион: Москва,\n",
       "     0                                                  1\n",
       " 0 NaN  Точное расписание самолётов, поездов, электрич...,\n",
       "                           0   1   2   3                                4   5  \\\n",
       " 0  Откудаещё вариантыМосква NaN NaN NaN  Кудаещё вариантыСанкт-Петербург NaN   \n",
       " \n",
       "                                   6  \n",
       " 0  Когдасегодня, завтра, на все дни  ,\n",
       "                                               0   1      2\n",
       " 0  любой транспортсамолётпоездэлектричкаавтобус NaN  Найти,\n",
       "     0                                                  1   2  \\\n",
       " 0 NaN  Табло аэропорта Внуково (Москва). Отправление.... NaN   \n",
       " 1 NaN  вчеравчерасегоднясегоднязавтразавтратаблоаэроэ... NaN   \n",
       " \n",
       "                                                    3   4  \n",
       " 0  var params = {\"popupStyle\": {\"copyPasteField\":... NaN  \n",
       " 1  АэропортыВнуковоДомодедовоЖуковскийШереметьево... NaN  ,\n",
       "     0                                                  1\n",
       " 0 NaN  var params = {\"popupStyle\": {\"copyPasteField\":...,\n",
       "                      0                                            1      2\n",
       " 0  ОтправлениеПрибытие  Город, страна, авиакомпания или номер рейса  Найти,\n",
       "     0      1\n",
       " 0 NaN  Найти,\n",
       "        0                                                  1         2  \\\n",
       " 0    NaN                                                NaN       NaN   \n",
       " 1   рейс                                               рейс  терминал   \n",
       " 2    NaN    DP 457 Москва — ЧебоксарыBoeing 737-800, Победа       NaN   \n",
       " 3    NaN  UT 4121 Москва — КурскCanadair regional jet, Ю...       NaN   \n",
       " 4    NaN  7R 121 Москва — КурскCanadair regional jet, Ру...       NaN   \n",
       " 5    NaN  FV 6036 Москва — Санкт-ПетербургAirbus A319, Р...         1   \n",
       " 6    NaN         R3 472 Симферополь — Якутсксамолёт, Якутия       NaN   \n",
       " 7    NaN          RM 927 Москва — ЕреванBoeing 737, Armenia       NaN   \n",
       " 8    NaN  7R 225 Москва — УльяновскBombardier CRJ200, Ру...       NaN   \n",
       " 9    NaN     R3 783 Москва — НерюнгриBoeing 737-700, Якутия       NaN   \n",
       " 10   NaN  A4 292 Москва — Ростов-на-ДонуСухой Суперджет ...       NaN   \n",
       " 11   NaN     W6 2492 Москва — БудапештAirbus А320, Wizz Air       NaN   \n",
       " 12   NaN    DP 413 Москва — ЧелябинскBoeing 737-800, Победа       NaN   \n",
       " 13   NaN     7R 4247 Москва — СургутBoeing 737-800, РусЛайн       NaN   \n",
       " 14   NaN        UT 247 Москва — СургутBoeing 737-800, ЮТэйр       NaN   \n",
       " 15   NaN  DP 403 Москва — ЕкатеринбургBoeing 737-800, По...       NaN   \n",
       " 16   NaN          DP 435 Москва — УфаBoeing 737-800, Победа       NaN   \n",
       " 17   NaN    DP 163 Москва — АстраханьBoeing 737-800, Победа       NaN   \n",
       " \n",
       "                    3                4          5  \n",
       " 0   московское время              NaN        NaN  \n",
       " 1         расписание  ожидаемое время     статус  \n",
       " 2      19:50, 3 июня    20:01, 3 июня  отправлен  \n",
       " 3              20:00            20:00  отправлен  \n",
       " 4              20:00            20:00  отправлен  \n",
       " 5              20:15              NaN  ожидается  \n",
       " 6              20:20            20:20    отменён  \n",
       " 7              21:00              NaN  ожидается  \n",
       " 8              21:10              NaN  ожидается  \n",
       " 9              21:20            19:02  отправлен  \n",
       " 10             21:45              NaN  ожидается  \n",
       " 11             22:15              NaN  ожидается  \n",
       " 12             23:50            23:50  ожидается  \n",
       " 13     00:50, 4 июня    00:50, 4 июня  ожидается  \n",
       " 14             00:50            00:50  ожидается  \n",
       " 15             01:25            01:25  ожидается  \n",
       " 16             01:55            01:55  ожидается  \n",
       " 17             07:05            07:05  ожидается  ,\n",
       "     0   1   2                                            3  \\\n",
       " 0 NaN NaN NaN  Пользовательское соглашениеПартнёры сервиса   \n",
       " \n",
       "                        4                   5   6  \n",
       " 0  Обратная связьРеклама  © 2009–2020 Яндекс NaN  ]"
      ]
     },
     "execution_count": 65,
     "metadata": {},
     "output_type": "execute_result"
    }
   ],
   "source": [
    "df_3"
   ]
  },
  {
   "cell_type": "code",
   "execution_count": 74,
   "metadata": {},
   "outputs": [
    {
     "data": {
      "text/html": [
       "<div>\n",
       "<style scoped>\n",
       "    .dataframe tbody tr th:only-of-type {\n",
       "        vertical-align: middle;\n",
       "    }\n",
       "\n",
       "    .dataframe tbody tr th {\n",
       "        vertical-align: top;\n",
       "    }\n",
       "\n",
       "    .dataframe thead th {\n",
       "        text-align: right;\n",
       "    }\n",
       "</style>\n",
       "<table border=\"1\" class=\"dataframe\">\n",
       "  <thead>\n",
       "    <tr style=\"text-align: right;\">\n",
       "      <th></th>\n",
       "      <th>0</th>\n",
       "      <th>1</th>\n",
       "      <th>2</th>\n",
       "      <th>3</th>\n",
       "      <th>4</th>\n",
       "      <th>5</th>\n",
       "    </tr>\n",
       "  </thead>\n",
       "  <tbody>\n",
       "    <tr>\n",
       "      <th>0</th>\n",
       "      <td>NaN</td>\n",
       "      <td>NaN</td>\n",
       "      <td>NaN</td>\n",
       "      <td>московское время</td>\n",
       "      <td>NaN</td>\n",
       "      <td>NaN</td>\n",
       "    </tr>\n",
       "    <tr>\n",
       "      <th>1</th>\n",
       "      <td>рейс</td>\n",
       "      <td>рейс</td>\n",
       "      <td>терминал</td>\n",
       "      <td>расписание</td>\n",
       "      <td>ожидаемое время</td>\n",
       "      <td>статус</td>\n",
       "    </tr>\n",
       "    <tr>\n",
       "      <th>2</th>\n",
       "      <td>NaN</td>\n",
       "      <td>DP 457 Москва — ЧебоксарыBoeing 737-800, Победа</td>\n",
       "      <td>NaN</td>\n",
       "      <td>19:50, 3 июня</td>\n",
       "      <td>20:01, 3 июня</td>\n",
       "      <td>отправлен</td>\n",
       "    </tr>\n",
       "    <tr>\n",
       "      <th>3</th>\n",
       "      <td>NaN</td>\n",
       "      <td>UT 4121 Москва — КурскCanadair regional jet, Ю...</td>\n",
       "      <td>NaN</td>\n",
       "      <td>20:00</td>\n",
       "      <td>20:00</td>\n",
       "      <td>отправлен</td>\n",
       "    </tr>\n",
       "    <tr>\n",
       "      <th>4</th>\n",
       "      <td>NaN</td>\n",
       "      <td>7R 121 Москва — КурскCanadair regional jet, Ру...</td>\n",
       "      <td>NaN</td>\n",
       "      <td>20:00</td>\n",
       "      <td>20:00</td>\n",
       "      <td>отправлен</td>\n",
       "    </tr>\n",
       "    <tr>\n",
       "      <th>5</th>\n",
       "      <td>NaN</td>\n",
       "      <td>FV 6036 Москва — Санкт-ПетербургAirbus A319, Р...</td>\n",
       "      <td>1</td>\n",
       "      <td>20:15</td>\n",
       "      <td>NaN</td>\n",
       "      <td>ожидается</td>\n",
       "    </tr>\n",
       "    <tr>\n",
       "      <th>6</th>\n",
       "      <td>NaN</td>\n",
       "      <td>R3 472 Симферополь — Якутсксамолёт, Якутия</td>\n",
       "      <td>NaN</td>\n",
       "      <td>20:20</td>\n",
       "      <td>20:20</td>\n",
       "      <td>отменён</td>\n",
       "    </tr>\n",
       "    <tr>\n",
       "      <th>7</th>\n",
       "      <td>NaN</td>\n",
       "      <td>RM 927 Москва — ЕреванBoeing 737, Armenia</td>\n",
       "      <td>NaN</td>\n",
       "      <td>21:00</td>\n",
       "      <td>NaN</td>\n",
       "      <td>ожидается</td>\n",
       "    </tr>\n",
       "    <tr>\n",
       "      <th>8</th>\n",
       "      <td>NaN</td>\n",
       "      <td>7R 225 Москва — УльяновскBombardier CRJ200, Ру...</td>\n",
       "      <td>NaN</td>\n",
       "      <td>21:10</td>\n",
       "      <td>NaN</td>\n",
       "      <td>ожидается</td>\n",
       "    </tr>\n",
       "    <tr>\n",
       "      <th>9</th>\n",
       "      <td>NaN</td>\n",
       "      <td>R3 783 Москва — НерюнгриBoeing 737-700, Якутия</td>\n",
       "      <td>NaN</td>\n",
       "      <td>21:20</td>\n",
       "      <td>19:02</td>\n",
       "      <td>отправлен</td>\n",
       "    </tr>\n",
       "    <tr>\n",
       "      <th>10</th>\n",
       "      <td>NaN</td>\n",
       "      <td>A4 292 Москва — Ростов-на-ДонуСухой Суперджет ...</td>\n",
       "      <td>NaN</td>\n",
       "      <td>21:45</td>\n",
       "      <td>NaN</td>\n",
       "      <td>ожидается</td>\n",
       "    </tr>\n",
       "    <tr>\n",
       "      <th>11</th>\n",
       "      <td>NaN</td>\n",
       "      <td>W6 2492 Москва — БудапештAirbus А320, Wizz Air</td>\n",
       "      <td>NaN</td>\n",
       "      <td>22:15</td>\n",
       "      <td>NaN</td>\n",
       "      <td>ожидается</td>\n",
       "    </tr>\n",
       "    <tr>\n",
       "      <th>12</th>\n",
       "      <td>NaN</td>\n",
       "      <td>DP 413 Москва — ЧелябинскBoeing 737-800, Победа</td>\n",
       "      <td>NaN</td>\n",
       "      <td>23:50</td>\n",
       "      <td>23:50</td>\n",
       "      <td>ожидается</td>\n",
       "    </tr>\n",
       "    <tr>\n",
       "      <th>13</th>\n",
       "      <td>NaN</td>\n",
       "      <td>7R 4247 Москва — СургутBoeing 737-800, РусЛайн</td>\n",
       "      <td>NaN</td>\n",
       "      <td>00:50, 4 июня</td>\n",
       "      <td>00:50, 4 июня</td>\n",
       "      <td>ожидается</td>\n",
       "    </tr>\n",
       "    <tr>\n",
       "      <th>14</th>\n",
       "      <td>NaN</td>\n",
       "      <td>UT 247 Москва — СургутBoeing 737-800, ЮТэйр</td>\n",
       "      <td>NaN</td>\n",
       "      <td>00:50</td>\n",
       "      <td>00:50</td>\n",
       "      <td>ожидается</td>\n",
       "    </tr>\n",
       "    <tr>\n",
       "      <th>15</th>\n",
       "      <td>NaN</td>\n",
       "      <td>DP 403 Москва — ЕкатеринбургBoeing 737-800, По...</td>\n",
       "      <td>NaN</td>\n",
       "      <td>01:25</td>\n",
       "      <td>01:25</td>\n",
       "      <td>ожидается</td>\n",
       "    </tr>\n",
       "    <tr>\n",
       "      <th>16</th>\n",
       "      <td>NaN</td>\n",
       "      <td>DP 435 Москва — УфаBoeing 737-800, Победа</td>\n",
       "      <td>NaN</td>\n",
       "      <td>01:55</td>\n",
       "      <td>01:55</td>\n",
       "      <td>ожидается</td>\n",
       "    </tr>\n",
       "    <tr>\n",
       "      <th>17</th>\n",
       "      <td>NaN</td>\n",
       "      <td>DP 163 Москва — АстраханьBoeing 737-800, Победа</td>\n",
       "      <td>NaN</td>\n",
       "      <td>07:05</td>\n",
       "      <td>07:05</td>\n",
       "      <td>ожидается</td>\n",
       "    </tr>\n",
       "  </tbody>\n",
       "</table>\n",
       "</div>"
      ],
      "text/plain": [
       "       0                                                  1         2  \\\n",
       "0    NaN                                                NaN       NaN   \n",
       "1   рейс                                               рейс  терминал   \n",
       "2    NaN    DP 457 Москва — ЧебоксарыBoeing 737-800, Победа       NaN   \n",
       "3    NaN  UT 4121 Москва — КурскCanadair regional jet, Ю...       NaN   \n",
       "4    NaN  7R 121 Москва — КурскCanadair regional jet, Ру...       NaN   \n",
       "5    NaN  FV 6036 Москва — Санкт-ПетербургAirbus A319, Р...         1   \n",
       "6    NaN         R3 472 Симферополь — Якутсксамолёт, Якутия       NaN   \n",
       "7    NaN          RM 927 Москва — ЕреванBoeing 737, Armenia       NaN   \n",
       "8    NaN  7R 225 Москва — УльяновскBombardier CRJ200, Ру...       NaN   \n",
       "9    NaN     R3 783 Москва — НерюнгриBoeing 737-700, Якутия       NaN   \n",
       "10   NaN  A4 292 Москва — Ростов-на-ДонуСухой Суперджет ...       NaN   \n",
       "11   NaN     W6 2492 Москва — БудапештAirbus А320, Wizz Air       NaN   \n",
       "12   NaN    DP 413 Москва — ЧелябинскBoeing 737-800, Победа       NaN   \n",
       "13   NaN     7R 4247 Москва — СургутBoeing 737-800, РусЛайн       NaN   \n",
       "14   NaN        UT 247 Москва — СургутBoeing 737-800, ЮТэйр       NaN   \n",
       "15   NaN  DP 403 Москва — ЕкатеринбургBoeing 737-800, По...       NaN   \n",
       "16   NaN          DP 435 Москва — УфаBoeing 737-800, Победа       NaN   \n",
       "17   NaN    DP 163 Москва — АстраханьBoeing 737-800, Победа       NaN   \n",
       "\n",
       "                   3                4          5  \n",
       "0   московское время              NaN        NaN  \n",
       "1         расписание  ожидаемое время     статус  \n",
       "2      19:50, 3 июня    20:01, 3 июня  отправлен  \n",
       "3              20:00            20:00  отправлен  \n",
       "4              20:00            20:00  отправлен  \n",
       "5              20:15              NaN  ожидается  \n",
       "6              20:20            20:20    отменён  \n",
       "7              21:00              NaN  ожидается  \n",
       "8              21:10              NaN  ожидается  \n",
       "9              21:20            19:02  отправлен  \n",
       "10             21:45              NaN  ожидается  \n",
       "11             22:15              NaN  ожидается  \n",
       "12             23:50            23:50  ожидается  \n",
       "13     00:50, 4 июня    00:50, 4 июня  ожидается  \n",
       "14             00:50            00:50  ожидается  \n",
       "15             01:25            01:25  ожидается  \n",
       "16             01:55            01:55  ожидается  \n",
       "17             07:05            07:05  ожидается  "
      ]
     },
     "execution_count": 74,
     "metadata": {},
     "output_type": "execute_result"
    }
   ],
   "source": [
    "df_3[11]"
   ]
  },
  {
   "cell_type": "code",
   "execution_count": null,
   "metadata": {},
   "outputs": [],
   "source": []
  }
 ],
 "metadata": {
  "kernelspec": {
   "display_name": "Python 3",
   "language": "python",
   "name": "python3"
  },
  "language_info": {
   "codemirror_mode": {
    "name": "ipython",
    "version": 3
   },
   "file_extension": ".py",
   "mimetype": "text/x-python",
   "name": "python",
   "nbconvert_exporter": "python",
   "pygments_lexer": "ipython3",
   "version": "3.7.6"
  }
 },
 "nbformat": 4,
 "nbformat_minor": 4
}
