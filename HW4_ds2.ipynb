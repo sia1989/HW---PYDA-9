{
 "cells": [
  {
   "cell_type": "markdown",
   "metadata": {},
   "source": [
    "**Задание 1**. Дан список с визитами по городам и странам. \n",
    "Напишите код, который возвращает отфильтрованный список geo_logs, содержащий только визиты из России."
   ]
  },
  {
   "cell_type": "code",
   "execution_count": 12,
   "metadata": {},
   "outputs": [],
   "source": [
    "geo_logs = [\n",
    "    {'visit1': ['Москва', 'Россия']},\n",
    "    {'visit2': ['Дели', 'Индия']},\n",
    "    {'visit3': ['Владимир', 'Россия']},\n",
    "    {'visit4': ['Лиссабон', 'Португалия']},\n",
    "    {'visit5': ['Париж', 'Франция']},\n",
    "    {'visit6': ['Лиссабон', 'Португалия']},\n",
    "    {'visit7': ['Тула', 'Россия']},\n",
    "    {'visit8': ['Тула', 'Россия']},\n",
    "    {'visit9': ['Курск', 'Россия']},\n",
    "    {'visit10': ['Архангельск', 'Россия']}\n",
    "]"
   ]
  },
  {
   "cell_type": "code",
   "execution_count": 17,
   "metadata": {},
   "outputs": [
    {
     "name": "stdout",
     "output_type": "stream",
     "text": [
      "{'visit1': ['Москва', 'Россия']}\n",
      "{'visit3': ['Владимир', 'Россия']}\n",
      "{'visit7': ['Тула', 'Россия']}\n",
      "{'visit8': ['Тула', 'Россия']}\n",
      "{'visit9': ['Курск', 'Россия']}\n",
      "{'visit10': ['Архангельск', 'Россия']}\n"
     ]
    }
   ],
   "source": [
    "for log in geo_logs:\n",
    "    if list(log.values())[0][1] == 'Россия':   \n",
    "        print(log)\n",
    "        \n",
    "# действительно, так проще и быстрее, спасибо, а то я слишком зациклился...  "
   ]
  },
  {
   "cell_type": "code",
   "execution_count": 18,
   "metadata": {},
   "outputs": [],
   "source": [
    "# country = 'Россия'\n",
    "# geo_logs_2 = []\n",
    "\n",
    "# from pprint import pprint\n",
    "\n",
    "# for visit in geo_logs:\n",
    "# # надо получить все значения словаря с Россия:\n",
    "#     for value in visit.values():\n",
    "#         if value[1] == country:            \n",
    "#             geo_logs_2.append(visit)\n",
    "# geo_logs = geo_logs_2\n",
    "# pprint(geo_logs)"
   ]
  },
  {
   "cell_type": "markdown",
   "metadata": {},
   "source": [
    "**Задание 2**. Выведите на экран все уникальные гео-ID из значений словаря ids. Т. е. список вида [213, 15, 54, 119, 98, 35]"
   ]
  },
  {
   "cell_type": "code",
   "execution_count": 19,
   "metadata": {},
   "outputs": [],
   "source": [
    "ids = {'user1': [213, 213, 213, 15, 213], \n",
    "       'user2': [54, 54, 119, 119, 119], \n",
    "       'user3': [213, 98, 98, 35]}"
   ]
  },
  {
   "cell_type": "code",
   "execution_count": 21,
   "metadata": {},
   "outputs": [
    {
     "name": "stdout",
     "output_type": "stream",
     "text": [
      "[98, 35, 15, 213, 54, 119]\n"
     ]
    }
   ],
   "source": [
    "# ids_list = list(ids.values())\n",
    "# print(ids_list)\n",
    "ids_uniq = set()\n",
    "for value in ids.values():\n",
    "    for x in value:\n",
    "        ids_uniq.add(x)\n",
    "print(list(ids_uniq))\n",
    "\n",
    "# не знаю, почему, но так мне понятнее"
   ]
  },
  {
   "cell_type": "markdown",
   "metadata": {},
   "source": [
    "**Задание 3**. Дан список поисковых запросов. Получить распределение количества слов в них. \n",
    "Т. е. поисковых запросов из одного - слова 5%, из двух - 7%, из трех - 3% и т.д."
   ]
  },
  {
   "cell_type": "code",
   "execution_count": 24,
   "metadata": {},
   "outputs": [],
   "source": [
    "queries = [\n",
    "    'смотреть сериалы онлайн',\n",
    "    'новости спорта',\n",
    "    'афиша кино',\n",
    "    'курс доллара',\n",
    "    'сериалы этим летом',\n",
    "    'курс по питону',\n",
    "    'сериалы про спорт',\n",
    "]"
   ]
  },
  {
   "cell_type": "code",
   "execution_count": 29,
   "metadata": {},
   "outputs": [
    {
     "name": "stdout",
     "output_type": "stream",
     "text": [
      "{'3 words in line': '60%', '2 words in line': '40%'}\n"
     ]
    }
   ],
   "source": [
    "words_count = {}\n",
    "# length = len(queries)\n",
    "# print(queries)\n",
    "for quantity in queries:\n",
    "    lenght = len(quantity.split(' '))\n",
    "#     words_count[lenght] = 0\n",
    "    words_count[lenght] = words_count.get(lenght, -1)+1\n",
    "words_count = {f'{word3} words in line': f'{word2/sum(words_count.values()):.0%}'for word3,word2 in words_count.items()}\n",
    "print(words_count)"
   ]
  },
  {
   "cell_type": "markdown",
   "metadata": {},
   "source": [
    "**Задание 4**. Дана статистика рекламных каналов по объемам продаж. Напишите скрипт, который возвращает название канала с максимальным объемом.\n",
    "Т. е. в данном примере скрипт должен возвращать 'yandex'."
   ]
  },
  {
   "cell_type": "code",
   "execution_count": 38,
   "metadata": {},
   "outputs": [],
   "source": [
    "stats = {'facebook': 55, 'yandex': 120, 'vk': 115, 'google': 99, 'email': 42, 'ok': 98}"
   ]
  },
  {
   "cell_type": "code",
   "execution_count": 74,
   "metadata": {},
   "outputs": [
    {
     "name": "stdout",
     "output_type": "stream",
     "text": [
      "Максимальный объем у: Yandex\n"
     ]
    }
   ],
   "source": [
    "# print(stats.keys())\n",
    "# print(stats.values())\n",
    "# # # привожу список по каналам:\n",
    "# for key in stats.keys():\n",
    "#     print(key)\n",
    "# # # привожу список по объемам:\n",
    "# for value in stats.values():\n",
    "#     print(value)\n",
    "\n",
    "# считаю максимальный канал по объемам:\n",
    "max_v_channel = ''\n",
    "for channel in stats.keys():\n",
    "    if stats[channel] > stats.get(max_v_channel,0):\n",
    "           max_v_channel = channel\n",
    "# print(channel)\n",
    "print('Максимальный объем у: ' + (max_v_channel.capitalize()))"
   ]
  },
  {
   "cell_type": "code",
   "execution_count": 79,
   "metadata": {},
   "outputs": [
    {
     "data": {
      "text/plain": [
       "{'yandex'}"
      ]
     },
     "execution_count": 79,
     "metadata": {},
     "output_type": "execute_result"
    }
   ],
   "source": [
    "max_value = max(stats.values())\n",
    "{key for key, value in stats.items()if value == max_value}\n",
    "\n",
    "# офигеть как можно было всего в 2 строчки решить задачу, которая часто встречается на работе в жизни....\n",
    "# кайф, спасибо за ссылку на stackoverfow"
   ]
  },
  {
   "cell_type": "markdown",
   "metadata": {},
   "source": [
    "**Задание 5**. Напишите код для преобразования произвольного списка вида ['2018-01-01', 'yandex', 'cpc', 100] (он может быть любой длины) в словарь {'2018-01-01': {'yandex': {'cpc': 100}}}"
   ]
  },
  {
   "cell_type": "code",
   "execution_count": 81,
   "metadata": {},
   "outputs": [],
   "source": [
    "random_list = ['2018-01-01', 'yandex', 'cpc', 100]"
   ]
  },
  {
   "cell_type": "code",
   "execution_count": 82,
   "metadata": {},
   "outputs": [
    {
     "data": {
      "text/plain": [
       "{'2018-01-01': {'yandex': {'cpc': 100}}}"
      ]
     },
     "execution_count": 82,
     "metadata": {},
     "output_type": "execute_result"
    }
   ],
   "source": [
    "def random_list_to_vocabulary(random_list):\n",
    "    vocabulary = {random_list[-2]: random_list[-1]}\n",
    "#     print(vocabulary)\n",
    "    for x in random_list[-3::-1]:\n",
    "        vocabulary = {x:vocabulary}\n",
    "    return vocabulary\n",
    "\n",
    "random_list_to_vocabulary(random_list)"
   ]
  }
 ],
 "metadata": {
  "kernelspec": {
   "display_name": "Python 3",
   "language": "python",
   "name": "python3"
  },
  "language_info": {
   "codemirror_mode": {
    "name": "ipython",
    "version": 3
   },
   "file_extension": ".py",
   "mimetype": "text/x-python",
   "name": "python",
   "nbconvert_exporter": "python",
   "pygments_lexer": "ipython3",
   "version": "3.7.6"
  }
 },
 "nbformat": 4,
 "nbformat_minor": 2
}
