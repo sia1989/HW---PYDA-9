{
 "cells": [
  {
   "cell_type": "markdown",
   "metadata": {},
   "source": [
    "Вы работаете секретарем и вам постоянно приходят различные документы. Вы должны быть очень внимательны, чтобы не потерять ни один документ. Каталог документов хранится в следующем виде:"
   ]
  },
  {
   "cell_type": "code",
   "execution_count": 1,
   "metadata": {},
   "outputs": [],
   "source": [
    "documents = [\n",
    "    {'type': 'passport', 'number': '2207 876234', 'name': 'Василий Гупкин'},\n",
    "    {'type': 'invoice', 'number': '11-2', 'name': 'Геннадий Покемонов'},\n",
    "    {'type': 'insurance', 'number': '10006', 'name': 'Аристарх Павлов'}\n",
    "]"
   ]
  },
  {
   "cell_type": "markdown",
   "metadata": {},
   "source": [
    "Перечень полок, на которых находятся документы хранится в следующем виде:"
   ]
  },
  {
   "cell_type": "code",
   "execution_count": 2,
   "metadata": {},
   "outputs": [],
   "source": [
    "directories = {\n",
    "    '1': ['2207 876234', '11-2'],\n",
    "    '2': ['10006'],\n",
    "    '3': []\n",
    "}"
   ]
  },
  {
   "cell_type": "markdown",
   "metadata": {},
   "source": [
    "Необходимо реализовать пользовательские команды (внимание! это не название функций, которые должны быть выразительными, а команды, которые вводит пользователь, чтобы получить необходимый результат):\n",
    "  \n",
    "- p – people – команда, которая спросит номер документа и выведет имя человека, которому он принадлежит;  \n",
    "- s – shelf – команда, которая спросит номер документа и выведет номер полки, на которой он находится  \n",
    "*Правильно обработайте ситуации, когда пользователь будет вводить несуществующий документ*.\n",
    "- l – list – команда, которая выведет список всех документов в формате   \n",
    "**passport \"2207 876234\" \"Василий Гупкин\"**  \n",
    "- as – add shelf – команда, которая спросит номер новой полки и добавит ее в перечень. *Предусмотрите случай, когда пользователь добавляет полку, которая уже существует*.\n",
    "- d – delete – команда, которая спросит номер документа и удалит его из каталога и из перечня полок. *Предусмотрите сценарий, когда пользователь вводит несуществующий документ*;  \n",
    "- m – move – команда, которая спросит номер документа и целевую полку и переместит его с текущей полки на целевую. *Корректно обработайте кейсы, когда пользователь пытается переместить несуществующий документ или переместить документ на несуществующую полку*;  \n",
    "- a – add – команда, которая добавит новый документ в каталог и в перечень полок, спросив его номер, тип, имя владельца и номер полки, на котором он будет храниться. *Корректно обработайте ситуацию, когда пользователь будет пытаться добавить документ на несуществующую полку*."
   ]
  },
  {
   "cell_type": "code",
   "execution_count": 1,
   "metadata": {},
   "outputs": [],
   "source": [
    "documents = [\n",
    "    {'type': 'passport', 'number': '2207 876234', 'name': 'Василий Гупкин'},\n",
    "    {'type': 'invoice', 'number': '11-2', 'name': 'Геннадий Покемонов'},\n",
    "    {'type': 'insurance', 'number': '10006', 'name': 'Аристарх Павлов'}\n",
    "]"
   ]
  },
  {
   "cell_type": "markdown",
   "metadata": {},
   "source": [
    "Перечень полок, на которых находятся документы хранится в следующем виде:"
   ]
  },
  {
   "cell_type": "code",
   "execution_count": 2,
   "metadata": {},
   "outputs": [],
   "source": [
    "directories = {\n",
    "    '1': ['2207 876234', '11-2'],\n",
    "    '2': ['10006'],\n",
    "    '3': []\n",
    "}"
   ]
  },
  {
   "cell_type": "code",
   "execution_count": 3,
   "metadata": {},
   "outputs": [],
   "source": [
    "# p – people – команда, которая спросит номер документа и выведет имя человека, которому он принадлежит:\n",
    "\n",
    "def people_documents(document_number):\n",
    "    for x in documents:\n",
    "        if x['number'] == document_number:\n",
    "            print (x['name'])\n",
    "            return x['name']\n",
    "    else:\n",
    "        x['number'] != document_number\n",
    "        print ('К сожалению, но такого документа не существует!')\n",
    "            "
   ]
  },
  {
   "cell_type": "code",
   "execution_count": 4,
   "metadata": {},
   "outputs": [],
   "source": [
    "# s – shelf – команда, которая спросит номер документа и выведет номер полки, на которой он находится:\n",
    "\n",
    "directories = {\n",
    "    '1': ['2207 876234', '11-2'],\n",
    "    '2': ['10006'],\n",
    "    '3': []\n",
    "}\n",
    "\n",
    "# for k in directories:\n",
    "#         print(directories[k])\n",
    "\n",
    "def shelf_number(document_number):\n",
    "    for k in directories:\n",
    "        if document_number in directories[k]:\n",
    "            print([k])\n",
    "            return [k]\n",
    "    else:\n",
    "        k != directories\n",
    "        print ('К сожалению, данного документа нет на полке!')\n"
   ]
  },
  {
   "cell_type": "code",
   "execution_count": 5,
   "metadata": {},
   "outputs": [],
   "source": [
    "# l – list – команда, которая выведет список всех документов в формате passport \"2207 876234\" \"Василий Гупкин\"\n",
    "\n",
    "def list_documents():\n",
    "    for document in documents:\n",
    "        print('{} \"{}\" \"{}\"'.format(document['type'], document['number'], document['name']))"
   ]
  },
  {
   "cell_type": "code",
   "execution_count": 6,
   "metadata": {},
   "outputs": [],
   "source": [
    "# as – add shelf – команда, которая спросит номер новой полки и добавит ее в перечень:\n",
    "\n",
    "def add_shelf_number(new_shelf):\n",
    "    if int(new_shelf) == 1 or int(new_shelf) == 2 or int(new_shelf) == 3:\n",
    "        print('К сожалению, но такая полка уже имеется!')\n",
    "    else:\n",
    "        new_dictionary = {new_shelf: []}\n",
    "        directories.update(new_dictionary)\n",
    "        print('Новая полка добавлена!')"
   ]
  },
  {
   "cell_type": "code",
   "execution_count": 7,
   "metadata": {},
   "outputs": [],
   "source": [
    "# d – delete – команда, которая спросит номер документа и удалит его из каталога и из перечня полок:\n",
    "\n",
    "def d(doc_number):\n",
    "    doc_len = len(documents)\n",
    "    for i, d in enumerate(documents):\n",
    "        if d[\"number\"] == doc_number:\n",
    "            documents.pop(i)\n",
    "\n",
    "    if doc_len == len(documents):\n",
    "        return \"Документ не существует\"\n",
    "\n",
    "    for key, value in directories.items():\n",
    "        if doc_number in value:\n",
    "            value.remove(doc_number)\n",
    "\n",
    "    return \"Документ успешно удален\""
   ]
  },
  {
   "cell_type": "code",
   "execution_count": 8,
   "metadata": {},
   "outputs": [],
   "source": [
    "# m – move – команда, которая спросит номер документа и целевую полку и переместит его с текущей полки на целевую:\n",
    "\n",
    "def m(doc_number, shelf_id):\n",
    "    doc_existence = False\n",
    "\n",
    "    if shelf_id not in directories:\n",
    "        return \"Полки не существует\"\n",
    "  \n",
    "    for key, value in directories.items():\n",
    "        if doc_number in value:\n",
    "            doc_existence = True\n",
    "            directories[shelf_id] += [doc_number]\n",
    "            value.remove(doc_number)\n",
    "\n",
    "    if doc_existence:\n",
    "        return \"Документ успешно перемещен\"\n",
    "    else :\n",
    "        return \"К сожалению, но такой документ не существует\"\n"
   ]
  },
  {
   "cell_type": "code",
   "execution_count": 9,
   "metadata": {},
   "outputs": [],
   "source": [
    "# a – add – команда, которая добавит новый документ в каталог и в перечень полок, \n",
    "# спросив его номер, тип, имя владельца и номер полки, на котором он будет храниться:\n",
    "\n",
    "def add_new_document(type, number, name, shelf_directory):\n",
    "    if int(shelf_directory) == 1 or int(shelf_directory) == 2 or int(shelf_directory) == 3:\n",
    "        documents.append({\"type\": type, \"number\": number, \"name\": name})\n",
    "        directories[shelf_directory].append(number)\n",
    "        print('Ваш документ добавлен каталог!')\n",
    "    else:\n",
    "        print('К сожалению, но такой полки не существует!')"
   ]
  },
  {
   "cell_type": "code",
   "execution_count": 10,
   "metadata": {},
   "outputs": [],
   "source": [
    "# Печать архива\n",
    "\n",
    "def print_document_from_archive():\n",
    "    print('Каталог документов.')\n",
    "    for document in documents:\n",
    "        print('{0} \"{1}\" \"{2}\"'.format(document['type'], document['number'], document['name']))\n",
    "\n",
    "    print('Перечень полок, на которых находятся документы.')\n",
    "    for shelf_number, document_number in directories.items():\n",
    "        print('Полка № ', shelf_number, document_number)"
   ]
  },
  {
   "cell_type": "code",
   "execution_count": 11,
   "metadata": {},
   "outputs": [],
   "source": [
    "def main_menu():\n",
    "    while True:\n",
    "        command = input('Выберете одну из команд: p, s, l, as, d, m, add: ')\n",
    "        if command == 'p':\n",
    "            people_documents(input('Введите номер документа: '))\n",
    "        elif command == 's':\n",
    "            shelf_number(input('Введите номер документа: '))\n",
    "        elif command == 'l':\n",
    "            list_documents()\n",
    "        elif command == 'as':\n",
    "            add_shelf_number(input('Добавьте новый номер новой полки в перечень: '))\n",
    "        elif command == 'd':\n",
    "            document_number = input(\"Введите номер документа, который хотите удалить: \")\n",
    "#             print(d(doc_number))\n",
    "#             print(documents)\n",
    "#             print(directories)\n",
    "#             delete_document(input('Введите номер документа: '))\n",
    "        elif command == 'm':\n",
    "            doc_number = input(\"Введите номер документа, который хотите переместить: \")\n",
    "            shelf_id = input(\"Введите номер полки, на которую хотите переместить документ: \")\n",
    "            print(m(doc_number, shelf_id))\n",
    "            print(directories)\n",
    "        elif command == 'add':\n",
    "            add_new_document(input('Введите тип документа (passport, invoice, insurance etc.): '), input('Введите номер документа: '), input('Введите имя: '), input('Введите номер полки (1, 2, 3): '))\n",
    "        elif command:\n",
    "                    print('К сожалению, но Вы ввели команду не верно, повторите еще раз!')                           "
   ]
  },
  {
   "cell_type": "code",
   "execution_count": null,
   "metadata": {},
   "outputs": [],
   "source": [
    "main_menu()"
   ]
  },
  {
   "cell_type": "code",
   "execution_count": null,
   "metadata": {},
   "outputs": [],
   "source": []
  }
 ],
 "metadata": {
  "kernelspec": {
   "display_name": "Python 3",
   "language": "python",
   "name": "python3"
  },
  "language_info": {
   "codemirror_mode": {
    "name": "ipython",
    "version": 3
   },
   "file_extension": ".py",
   "mimetype": "text/x-python",
   "name": "python",
   "nbconvert_exporter": "python",
   "pygments_lexer": "ipython3",
   "version": "3.7.6"
  }
 },
 "nbformat": 4,
 "nbformat_minor": 2
}
