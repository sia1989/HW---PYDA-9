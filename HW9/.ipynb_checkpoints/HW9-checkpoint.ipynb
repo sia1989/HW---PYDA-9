{
 "cells": [
  {
   "cell_type": "markdown",
   "metadata": {},
   "source": [
    "Задание 1.\n",
    "\n",
    "Напишите функцию, которая принимает на вход строку и проверяет является ли она валидным транспортным номером. Если да, то функция должна возвращать отдельно номер и регион."
   ]
  },
  {
   "cell_type": "code",
   "execution_count": 183,
   "metadata": {},
   "outputs": [],
   "source": [
    "import re"
   ]
  },
  {
   "cell_type": "code",
   "execution_count": 187,
   "metadata": {},
   "outputs": [],
   "source": [
    "string_number = 'A123TC999 B456ЮP177 У789ФX799 123MCX123 34E43 113YP23 C997KP77 PK9У99'"
   ]
  },
  {
   "cell_type": "code",
   "execution_count": 188,
   "metadata": {},
   "outputs": [],
   "source": [
    "def number_find(string_number):\n",
    "    pattern_1 = r'([A,B,E,K,M,O,H,P,C,T,Y,У,X]{1}\\d{3}[A,B,E,K,M,O,H,P,C,T,Y,У,X]{2})(\\d{3})'\n",
    "    pattern_2 = r'(\\d{3}[A,B,E,K,M,O,H,P,C,T,Y,У,X]{3})(\\d{3})'\n",
    "    pattern_3 = r'(\\d{2}[A,B,E,K,M,O,H,P,C,T,Y,У,X]{1})(\\d{2})'\n",
    "    pattern_4 = r'([A,B,E,K,M,O,H,P,C,T,Y,У,X]{2}\\d{1}[A,B,E,K,M,O,H,P,C,T,Y,У,X]{1})(\\d{2})'\n",
    "    patterns = [pattern_1, pattern_2, pattern_3, pattern_4]\n",
    "    result = []\n",
    "    for number in string_number.split(' '):\n",
    "        for pattern in patterns:\n",
    "            if len(re.findall(pattern, number)) != 0:\n",
    "                result.append(re.findall(pattern, number))\n",
    "    return result"
   ]
  },
  {
   "cell_type": "code",
   "execution_count": 189,
   "metadata": {},
   "outputs": [
    {
     "data": {
      "text/plain": [
       "[[('A123TC', '999')], [('123MCX', '123')], [('34E', '43')], [('PK9У', '99')]]"
      ]
     },
     "execution_count": 189,
     "metadata": {},
     "output_type": "execute_result"
    }
   ],
   "source": [
    "number_find(string_number)"
   ]
  },
  {
   "cell_type": "markdown",
   "metadata": {},
   "source": [
    "Задание 2.\n",
    "\n",
    "Постарайтесь написать (в крайнем случае найти) самый полный шаблон для проверки e-mail адресов через регулярное выражение, которая проверяет e-mail адрес на валидность. Можно руководствоваться следующими минимальными требованиями:\n",
    "\n",
    "• адрес должен содержать специальный символ “@”, который отделяет имя пользователя почтовой системы от доменного имени;\n",
    "\n",
    "• адрес не должен содержать следующие символы: “пробел”, “,”, “:”, “;”, “!”, “#”, “%”, “*”, “(”, “)”, “=”, “+”, “{”, “}”, \" \" \", \" ’ \", \" / \", \" \\ \" и “|”;\n",
    "\n",
    "• адрес должен состоять только из латинских символов;\n",
    "\n",
    "• после символа “@” должна быть как минимум одна “.”;\n",
    "\n",
    "• после последней точки должно быть не менее 2-х и не более 4-х символов, причем наличие цифр не допускается;\n",
    "\n",
    "• между последней точкой и символом “@” должно быть не менее 2-х символов\n",
    "\n",
    "• слева от “@” должно быть не менее четырех символов"
   ]
  },
  {
   "cell_type": "code",
   "execution_count": 1,
   "metadata": {},
   "outputs": [],
   "source": [
    "import re"
   ]
  },
  {
   "cell_type": "code",
   "execution_count": 131,
   "metadata": {},
   "outputs": [],
   "source": [
    "# попробовал записать, оновываясь на разых примерах, но что-то пошло не так:\n",
    "pattern = r'^([A-Za-z0-9_-]+\\.)*[A-Za-z0-9_-]+@[A-Za-z0-9_-]+(\\.[A-Za-z0-9_-]+)*\\.[A-Za-z]{2,}$'"
   ]
  },
  {
   "cell_type": "code",
   "execution_count": 132,
   "metadata": {},
   "outputs": [],
   "source": [
    "my_mail = 'abcd.ef123@gmail.com'"
   ]
  },
  {
   "cell_type": "code",
   "execution_count": 133,
   "metadata": {},
   "outputs": [
    {
     "data": {
      "text/plain": [
       "[('abcd.', '')]"
      ]
     },
     "execution_count": 133,
     "metadata": {},
     "output_type": "execute_result"
    }
   ],
   "source": [
    "re.findall(pattern, my_mail)"
   ]
  },
  {
   "cell_type": "code",
   "execution_count": 138,
   "metadata": {},
   "outputs": [],
   "source": [
    "# вот, что нашел в интернете:\n",
    "pattern_2 = r'^[a-zA-Z0-9_.+-]+@[a-zA-Z0-9-]+\\.[a-zA-Z0-9-.]+$'"
   ]
  },
  {
   "cell_type": "code",
   "execution_count": 139,
   "metadata": {},
   "outputs": [],
   "source": [
    "my_mail_2 = 'abcd.ef11@mail.ru'"
   ]
  },
  {
   "cell_type": "code",
   "execution_count": 140,
   "metadata": {},
   "outputs": [],
   "source": [
    "my_mail_3 = 'k.Lmnop2020@gmail.com'"
   ]
  },
  {
   "cell_type": "code",
   "execution_count": 141,
   "metadata": {},
   "outputs": [
    {
     "data": {
      "text/plain": [
       "['k.Lmnop2020@gmail.com']"
      ]
     },
     "execution_count": 141,
     "metadata": {},
     "output_type": "execute_result"
    }
   ],
   "source": [
    "# re.findall(pattern_2, my_mail_2)\n",
    "re.findall(pattern_2, my_mail_3)"
   ]
  },
  {
   "cell_type": "markdown",
   "metadata": {},
   "source": [
    "Задание 3.\n",
    "\n",
    "Напишите функцию, которая будет удалять все последовательные повторы слов из заданной строки при помощи регулярных выражений."
   ]
  },
  {
   "cell_type": "code",
   "execution_count": 35,
   "metadata": {},
   "outputs": [],
   "source": [
    "my_string = 'Нетология Нетология помогает расти на всех этапах этапах карьеры — получать знания знания на старте и открывать новые новые высоты'"
   ]
  },
  {
   "cell_type": "code",
   "execution_count": 36,
   "metadata": {},
   "outputs": [],
   "source": [
    "import re"
   ]
  },
  {
   "cell_type": "code",
   "execution_count": 37,
   "metadata": {},
   "outputs": [],
   "source": [
    "def delete_word(string):\n",
    "    return re.sub(r'([^\\W\\d_]+)(\\s+\\1)+\\b', r'\\1', my_string)"
   ]
  },
  {
   "cell_type": "code",
   "execution_count": 38,
   "metadata": {},
   "outputs": [
    {
     "data": {
      "text/plain": [
       "'Нетология помогает расти на всех этапах карьеры — получать знания на старте и открывать новые высоты'"
      ]
     },
     "execution_count": 38,
     "metadata": {},
     "output_type": "execute_result"
    }
   ],
   "source": [
    "delete_word(my_string)"
   ]
  },
  {
   "cell_type": "code",
   "execution_count": 39,
   "metadata": {},
   "outputs": [],
   "source": [
    "# ВОПРОС: а почему удалились повторяющиеся слова,идущие друг за другом, а другие нет: пример - \"этапах карьеры этапах карьеры\" \n",
    "my_string_2 = 'Нетология Нетология помогает расти на всех этапах карьеры этапах карьеры'"
   ]
  },
  {
   "cell_type": "code",
   "execution_count": 40,
   "metadata": {},
   "outputs": [],
   "source": [
    "def delete_word_2(string):\n",
    "    return re.sub(r'([^\\W\\d_]+)(\\s+\\1)+\\b', r'\\1', my_string_2)"
   ]
  },
  {
   "cell_type": "code",
   "execution_count": 41,
   "metadata": {},
   "outputs": [
    {
     "data": {
      "text/plain": [
       "'Нетология помогает расти на всех этапах карьеры этапах карьеры'"
      ]
     },
     "execution_count": 41,
     "metadata": {},
     "output_type": "execute_result"
    }
   ],
   "source": [
    "delete_word_2(my_string_2)"
   ]
  },
  {
   "cell_type": "code",
   "execution_count": 42,
   "metadata": {},
   "outputs": [],
   "source": [
    "# что в этом случае делать? спасибо "
   ]
  },
  {
   "cell_type": "markdown",
   "metadata": {},
   "source": [
    "Задание 4.\n",
    "\n",
    "Напишите функцию, которая будет проверять номер сотового телефона на валидность, если он валиден, то переводить его в формат:\n",
    "+7(xxx)-xxx-xx-xx\n",
    "\n",
    "Постарайтесь предусмотреть как можно больше адекватных форматов изначального ввода номера. Примеры валидных форматов:\n",
    "\n",
    "• +7 955 555-55-55;\n",
    "\n",
    "• 9555555555;\n",
    "\n",
    "• 8(955)555-55-55;\n",
    "\n",
    "• +7 955 555 55 55;\n",
    "\n",
    "• 7(955) 555-55-55;\n",
    "\n",
    "• +7 955+555+55+55."
   ]
  },
  {
   "cell_type": "code",
   "execution_count": 99,
   "metadata": {},
   "outputs": [],
   "source": [
    "phone_numbers = '+7 955 555-55-55, 9555555555, 8(955)555-55-55, +7 495 555 55 55, 7(955) 555-55-55, +7 955+555+55+55'"
   ]
  },
  {
   "cell_type": "code",
   "execution_count": 115,
   "metadata": {},
   "outputs": [],
   "source": [
    "def convert_number(phone_numbers):\n",
    "    active_numbers = []\n",
    "    converted_numbers = []\n",
    "    for number in re.findall(r'[8|+7|7][\\s|(|\\s](9|4\\d{2})[-|+|\\s)|)\\s](\\d{3}[-|+|\\s])(\\d{2}[-|+|\\s])(\\d{2})', phone_numbers):\n",
    "        active_numbers.append(number)\n",
    "        print(active_numbers)\n",
    "    for number in re.findall(r'(9|8|7\\d{2})(\\d{3})(\\d{2})(\\d{2})', phone_numbers):\n",
    "        active_numbers.append(number)\n",
    "        print(active_numbers)\n",
    "    for number in re.findall(r'[9|8|7][(](9|4\\d{2})[)][\\s](\\d{3})[\\s](\\d{2})[\\s](\\d{2})', phone_numbers):\n",
    "        active_numbers.append(number)\n",
    "        print(active_numbers)\n",
    "    for format_numbers in active_numbers:\n",
    "        print(format_numbers)\n",
    "        converted_numbers.append(f\"+7({format_numbers[0]}){format_numbers[1]}-{format_numbers[2]}-{format_numbers[2]}\")\n",
    "    return converted_numbers"
   ]
  },
  {
   "cell_type": "code",
   "execution_count": 116,
   "metadata": {},
   "outputs": [
    {
     "name": "stdout",
     "output_type": "stream",
     "text": [
      "[('495', '555 ', '55 ', '55')]\n",
      "[('495', '555 ', '55 ', '55'), ('9', '555', '55', '55')]\n",
      "('495', '555 ', '55 ', '55')\n",
      "('9', '555', '55', '55')\n"
     ]
    },
    {
     "data": {
      "text/plain": [
       "['+7(495)555 -55 -55 ', '+7(9)555-55-55']"
      ]
     },
     "execution_count": 116,
     "metadata": {},
     "output_type": "execute_result"
    }
   ],
   "source": [
    "convert_number(phone_numbers)"
   ]
  },
  {
   "cell_type": "code",
   "execution_count": null,
   "metadata": {},
   "outputs": [],
   "source": []
  }
 ],
 "metadata": {
  "kernelspec": {
   "display_name": "Python 3",
   "language": "python",
   "name": "python3"
  },
  "language_info": {
   "codemirror_mode": {
    "name": "ipython",
    "version": 3
   },
   "file_extension": ".py",
   "mimetype": "text/x-python",
   "name": "python",
   "nbconvert_exporter": "python",
   "pygments_lexer": "ipython3",
   "version": "3.7.6"
  }
 },
 "nbformat": 4,
 "nbformat_minor": 4
}
